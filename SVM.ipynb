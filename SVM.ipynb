{
  "nbformat": 4,
  "nbformat_minor": 0,
  "metadata": {
    "colab": {
      "name": "SVM.ipynb",
      "provenance": [],
      "collapsed_sections": [
        "5EBd4MS_7Tgw",
        "ITaI_a6E7fuS",
        "GbDG0rDS7nnN",
        "sRZifY9j72zY",
        "Gc7hkBzUGul-",
        "Qkt2S648IlAe",
        "f6yoQXhcCLIl",
        "PYElvbsPVYcf",
        "TIICJyeX9h7d",
        "g-qpXM_69nY1",
        "7-2BsYg-M3s4",
        "i_HjBuyjM75c"
      ]
    },
    "kernelspec": {
      "display_name": "Python 3",
      "name": "python3"
    },
    "language_info": {
      "name": "python"
    }
  },
  "cells": [
    {
      "cell_type": "markdown",
      "metadata": {
        "id": "5EBd4MS_7Tgw"
      },
      "source": [
        "# Setting up"
      ]
    },
    {
      "cell_type": "code",
      "metadata": {
        "id": "vOOQIHvwzEIj",
        "colab": {
          "base_uri": "https://localhost:8080/"
        },
        "outputId": "cc824295-f9dc-4a4f-bb43-33e249aec484"
      },
      "source": [
        "!gdown --id 1up7d8aWd0H-QDN2konB_4oAwa4oHJQr2\n",
        "!gdown --id 1doKr_6jKH1kwFFCL92LhAHnDwHVmCQVK\n",
        "!gdown --id 1mUoiYzyUs6ihlmkqskdPPgo0O1ainWqw\n",
        "!mkdir ~/.demoji\n",
        "!mv codes.json ~/.demoji/\n",
        "!unzip wassa_dataset.zip\n",
        "!rm wassa_dataset.zip\n",
        "!pip install -qq demoji\n",
        "!pip install -qq unidecode\n",
        "!pip install -qq snowballstemmer"
      ],
      "execution_count": 6,
      "outputs": [
        {
          "output_type": "stream",
          "text": [
            "Downloading...\n",
            "From: https://drive.google.com/uc?id=1up7d8aWd0H-QDN2konB_4oAwa4oHJQr2\n",
            "To: /content/wassa_dataset.zip\n",
            "100% 364k/364k [00:00<00:00, 44.2MB/s]\n",
            "Downloading...\n",
            "From: https://drive.google.com/uc?id=1doKr_6jKH1kwFFCL92LhAHnDwHVmCQVK\n",
            "To: /content/emoticons.csv\n",
            "100% 6.02k/6.02k [00:00<00:00, 4.52MB/s]\n",
            "Downloading...\n",
            "From: https://drive.google.com/uc?id=1mUoiYzyUs6ihlmkqskdPPgo0O1ainWqw\n",
            "To: /content/codes.json\n",
            "100% 216k/216k [00:00<00:00, 32.9MB/s]\n",
            "mkdir: cannot create directory ‘/root/.demoji’: File exists\n",
            "Archive:  wassa_dataset.zip\n",
            "replace wassa_train.csv? [y]es, [n]o, [A]ll, [N]one, [r]ename: y\n",
            "  inflating: wassa_train.csv         \n",
            "replace wassa_test.csv? [y]es, [n]o, [A]ll, [N]one, [r]ename: y\n",
            "  inflating: wassa_test.csv          \n",
            "replace wassa_val.csv? [y]es, [n]o, [A]ll, [N]one, [r]ename: y\n",
            "  inflating: wassa_val.csv           \n"
          ],
          "name": "stdout"
        }
      ]
    },
    {
      "cell_type": "code",
      "metadata": {
        "id": "7ZQuG8GQzYUZ"
      },
      "source": [
        "import pandas as pd\n",
        "import matplotlib.pyplot as plt\n",
        "from sklearn.model_selection import train_test_split\n",
        "from sklearn import svm\n",
        "from sklearn.metrics import confusion_matrix\n",
        "from nltk import PorterStemmer, word_tokenize\n",
        "from nltk.corpus import stopwords\n",
        "from nltk.stem import SnowballStemmer\n",
        "import nltk\n",
        "from sklearn.feature_extraction.text import TfidfVectorizer\n",
        "import demoji\n",
        "import re\n",
        "import unidecode\n",
        "from sklearn.preprocessing import LabelEncoder\n",
        "from sklearn.metrics import accuracy_score \n",
        "import numpy as np\n",
        "import itertools\n",
        "from sklearn.naive_bayes import MultinomialNB, GaussianNB\n",
        "import pickle\n",
        "import snowballstemmer\n",
        "from sklearn.metrics import precision_score\n",
        "from sklearn.metrics import recall_score\n",
        "from sklearn.metrics import f1_score"
      ],
      "execution_count": 8,
      "outputs": []
    },
    {
      "cell_type": "code",
      "metadata": {
        "id": "mQ-xz4QR4ibS"
      },
      "source": [
        "nltk.download(\"all\")"
      ],
      "execution_count": null,
      "outputs": []
    },
    {
      "cell_type": "markdown",
      "metadata": {
        "id": "ITaI_a6E7fuS"
      },
      "source": [
        "# Loading the dataset"
      ]
    },
    {
      "cell_type": "code",
      "metadata": {
        "colab": {
          "base_uri": "https://localhost:8080/",
          "height": 432
        },
        "id": "A3VUIV3Xza8B",
        "outputId": "a41a8153-bae5-4ca7-c0ef-3af43d608ff1"
      },
      "source": [
        "df_train = pd.read_csv(\"wassa_train.csv\")\n",
        "df_val = pd.read_csv(\"wassa_val.csv\")\n",
        "df_test = pd.read_csv(\"wassa_test.csv\")\n",
        "n_samples = df_train[[\"tweet\", \"emotion\"]].groupby(\"emotion\").count()\n",
        "n_samples.plot(kind=\"bar\")\n",
        "plt.show()\n",
        "print(n_samples)"
      ],
      "execution_count": 10,
      "outputs": [
        {
          "output_type": "display_data",
          "data": {
            "image/png": "[encoded data removed]",
            "text/plain": [
              "<Figure size 432x288 with 1 Axes>"
            ]
          },
          "metadata": {
            "tags": [],
            "needs_background": "light"
          }
        },
        {
          "output_type": "stream",
          "text": [
            "         tweet\n",
            "emotion       \n",
            "anger     1200\n",
            "fear      1200\n",
            "joy       1200\n",
            "neutral   1200\n",
            "sadness   1200\n"
          ],
          "name": "stdout"
        }
      ]
    },
    {
      "cell_type": "code",
      "metadata": {
        "colab": {
          "base_uri": "https://localhost:8080/"
        },
        "id": "nfLa7cbWXU3c",
        "outputId": "00eff7b4-0732-4122-f978-7c51f67cb6e3"
      },
      "source": [
        "labels = list(set(df_train[\"emotion\"].tolist()))\n",
        "labels"
      ],
      "execution_count": 11,
      "outputs": [
        {
          "output_type": "execute_result",
          "data": {
            "text/plain": [
              "['joy', 'fear', 'anger', 'neutral', 'sadness']"
            ]
          },
          "metadata": {
            "tags": []
          },
          "execution_count": 11
        }
      ]
    },
    {
      "cell_type": "markdown",
      "metadata": {
        "id": "GbDG0rDS7nnN"
      },
      "source": [
        "# Useful functions"
      ]
    },
    {
      "cell_type": "code",
      "metadata": {
        "id": "w6BunpRn0tjc"
      },
      "source": [
        "def plot_confusion_matrix(cm,\n",
        "                          target_names,\n",
        "                          title='Confusion matrix',\n",
        "                          cmap=None,\n",
        "                          normalize=True):\n",
        "    accuracy = np.trace(cm) / float(np.sum(cm))\n",
        "    misclass = 1 - accuracy\n",
        "\n",
        "    if cmap is None:\n",
        "        cmap = plt.get_cmap('Blues')\n",
        "\n",
        "    plt.figure(figsize=(8, 6))\n",
        "    plt.imshow(cm, interpolation='nearest', cmap=cmap)\n",
        "    plt.title(title)\n",
        "    plt.colorbar()\n",
        "\n",
        "    if target_names is not None:\n",
        "        tick_marks = np.arange(len(target_names))\n",
        "        plt.xticks(tick_marks, target_names, rotation=45)\n",
        "        plt.yticks(tick_marks, target_names)\n",
        "\n",
        "    if normalize:\n",
        "        cm = cm.astype('float') / cm.sum(axis=1)[:, np.newaxis]\n",
        "\n",
        "    thresh = cm.max() / 1.5 if normalize else cm.max() / 2\n",
        "    for i, j in itertools.product(range(cm.shape[0]), range(cm.shape[1])):\n",
        "        if normalize:\n",
        "            plt.text(j, i, \"{:0.4f}\".format(cm[i, j]),\n",
        "                     horizontalalignment=\"center\",\n",
        "                     color=\"white\" if cm[i, j] > thresh else \"black\")\n",
        "        else:\n",
        "            plt.text(j, i, \"{:,}\".format(cm[i, j]),\n",
        "                     horizontalalignment=\"center\",\n",
        "                     color=\"white\" if cm[i, j] > thresh else \"black\")\n",
        "\n",
        "    plt.tight_layout()\n",
        "    plt.ylabel('True label')\n",
        "    plt.xlabel('Predicted label\\naccuracy={:0.4f}; misclass={:0.4f}'.format(accuracy, misclass))\n",
        "    plt.show()\n",
        "\n"
      ],
      "execution_count": 12,
      "outputs": []
    },
    {
      "cell_type": "code",
      "metadata": {
        "id": "xrHpvKvp2r4d"
      },
      "source": [
        "def preprocess_text(text, emodict, stop_words):\n",
        "    # make lowercase and strip empty spaces\n",
        "    result = text.lower()\n",
        "    # replace emojis with text\n",
        "    dict = demoji.findall(result)\n",
        "\n",
        "    for x in dict:\n",
        "        result = result.replace(x, dict[x] + \" \")\n",
        "\n",
        "    for x in emodict:\n",
        "        result = result.replace(x, emodict[x] + \" \")\n",
        "    # strip extra spaces\n",
        "    result = result.strip()\n",
        "    # eliminate URLs\n",
        "    result = re.result = re.sub(r\"http\\S+\", \"\", result)\n",
        "    # eliminate email addresses\n",
        "    result = re.sub('\\S*@\\S*\\s?', '', result)\n",
        "    # strip diacritics\n",
        "    result = unidecode.unidecode(result)\n",
        "    # english stopwords\n",
        "    word_list = word_tokenize(result)\n",
        "    # english stemmer\n",
        "    ps = SnowballStemmer(\"romanian\")\n",
        "\n",
        "    stemmed_sentence = \"\"\n",
        "    for word in word_list:\n",
        "        if word not in stop_words:\n",
        "            stemmed_sentence += ps.stem(word)\n",
        "            stemmed_sentence += \" \"\n",
        "\n",
        "    result = stemmed_sentence\n",
        "    whitelist = set('abcdefghijklmnopqrstuvwxyz ABCDEFGHIJKLMNOPQRSTUVWXYZ')\n",
        "    result = ''.join(filter(whitelist.__contains__, result))\n",
        "    result = ''.join([i for i in result if not i.isdigit()])\n",
        "    return result"
      ],
      "execution_count": 13,
      "outputs": []
    },
    {
      "cell_type": "code",
      "metadata": {
        "id": "I2Z8gVEt3lzj"
      },
      "source": [
        "def get_emoji_translation(file):\n",
        "    df = pd.read_csv(file)\n",
        "    dict = {}\n",
        "    emojis = list(df[\"emoji\"])\n",
        "    words = list(df[\"word\"])\n",
        "    for i in range(len(words)):\n",
        "        dict[emojis[i]] = words[i]\n",
        "\n",
        "    return dict"
      ],
      "execution_count": 14,
      "outputs": []
    },
    {
      "cell_type": "code",
      "metadata": {
        "id": "8NcnQLm_8RLT"
      },
      "source": [
        "def preprocess_text_list(text_list, emodict, stop_words):\n",
        "  for i,text in enumerate(text_list):\n",
        "    text_list[i] = preprocess_text(text_list[i], emodict, stop_words)"
      ],
      "execution_count": 15,
      "outputs": []
    },
    {
      "cell_type": "code",
      "metadata": {
        "id": "N53Yo-hqD5se"
      },
      "source": [
        "def preprocess_text_list_ro(text_list, stop_words):\n",
        "  for i,text in enumerate(text_list):\n",
        "    text_list[i] = preprocess_text_ro(text_list[i], stop_words)"
      ],
      "execution_count": 16,
      "outputs": []
    },
    {
      "cell_type": "code",
      "metadata": {
        "id": "wJtXIyn1n5c2"
      },
      "source": [
        "def pickle_object(object, location):\n",
        "    filehandler = open(location, \"wb\")\n",
        "    pickle.dump(object, filehandler)\n",
        "    filehandler.close()\n",
        "\n",
        "def pickle_load_object(location):\n",
        "    file = open(location, 'rb')\n",
        "    object = pickle.load(file)\n",
        "    file.close()\n",
        "    return object"
      ],
      "execution_count": 17,
      "outputs": []
    },
    {
      "cell_type": "code",
      "metadata": {
        "id": "c4OTA3CzOLJw"
      },
      "source": [
        "def compute_metrics(y_true, predictions):\n",
        "  average = \"macro\"\n",
        "  acc = accuracy_score(y_true, predictions)\n",
        "  precision = precision_score(y_true, predictions, average=average)\n",
        "  recall = recall_score(y_true, predictions, average=average)\n",
        "  f1 = f1_score(y_true, predictions, average=average)\n",
        "  print(f\"Model has acc = {acc}\\n, precision = {precision}\\n, recall = {recall}\\n, f1_score = {f1}\\n\")\n"
      ],
      "execution_count": 18,
      "outputs": []
    },
    {
      "cell_type": "markdown",
      "metadata": {
        "id": "sRZifY9j72zY"
      },
      "source": [
        "# Preprocessing"
      ]
    },
    {
      "cell_type": "code",
      "metadata": {
        "id": "vEq7_CJt-0p1",
        "colab": {
          "base_uri": "https://localhost:8080/"
        },
        "outputId": "688e365c-2060-47dc-aad8-e9cd9183353e"
      },
      "source": [
        "train_texts = df_train[\"tweet\"].tolist()\n",
        "val_texts = df_val[\"tweet\"].tolist()\n",
        "test_texts = df_test[\"tweet\"].tolist()\n",
        "\n",
        "\n",
        "train_labels = df_train[\"emotion\"].tolist()\n",
        "val_labels = df_val[\"emotion\"].tolist()\n",
        "test_labels = df_test[\"emotion\"].tolist()\n",
        "\n",
        "train_texts[:10]"
      ],
      "execution_count": 19,
      "outputs": [
        {
          "output_type": "execute_result",
          "data": {
            "text/plain": [
              "['Kinda wished I watched mischievous kiss before playful kiss',\n",
              " 'When you forget to mention you were bought dreamboys tickets 🙄😂',\n",
              " '@FreyaLynn @donniewahlberg yep! jimmy buffett FTW!!!... jimmy needs to tweet his words of wisdom every morning',\n",
              " \"@philcampbell blue skies? where, it's still grey and hazy out of my window\",\n",
              " 'Some moving clips on youtube tonight of the vigil held at Tulsa Metropolitan Baptist church for #TerenceCruther #justice  #sadness',\n",
              " 'Do what makes you successful and #happy now and forever',\n",
              " '@curligirl morning hon. what you having for breakfast? I cant decide',\n",
              " 'Standard Candice starting the show with a pout #startasyoumeantogoon #GBBO',\n",
              " \"[ @HedgehogDylan ] *she would frown a bit, folding her arms* 'why is it that every time I'm in need of assistance someone expects a lil **\",\n",
              " 'Someone make me a cofffeeeeeee......']"
            ]
          },
          "metadata": {
            "tags": []
          },
          "execution_count": 19
        }
      ]
    },
    {
      "cell_type": "markdown",
      "metadata": {
        "id": "inPyrexYEHCO"
      },
      "source": [
        "## English"
      ]
    },
    {
      "cell_type": "code",
      "metadata": {
        "id": "jkin3q-Z1b7V",
        "colab": {
          "base_uri": "https://localhost:8080/"
        },
        "outputId": "db9b033c-935b-4295-acf8-467fad1ff8ea"
      },
      "source": [
        "emodict = get_emoji_translation(\"emoticons.csv\")  # loads emoticons dict\n",
        "stop_words = stopwords.words(\"english\")  # loads english stopwords\n",
        "\n",
        "preprocess_text_list(train_texts, emodict, stop_words)\n",
        "preprocess_text_list(val_texts, emodict, stop_words)\n",
        "preprocess_text_list(test_texts, emodict, stop_words)\n",
        "\n",
        "train_texts[:10]"
      ],
      "execution_count": 20,
      "outputs": [
        {
          "output_type": "execute_result",
          "data": {
            "text/plain": [
              "['kind wished watched mischievous kiss playf kiss ',\n",
              " 'forget mention bought dreamboys tickets fac rolling eyes fac tears joy ',\n",
              " 'yep  jimmy buffett ftw     jimmy needs tweet words wisdom every morning ',\n",
              " 'blu skies   s still grey hazy window ',\n",
              " 'moving clips youtub tonight vigil held tuls metropolitan baptist church  terencecruther  justic  sadness ',\n",
              " 'makes successf  happy forever ',\n",
              " 'morning hon  breakfast  cant decid ',\n",
              " 'standard candic starting show pout  startasyoumeantogoon  gbbo ',\n",
              " '  she would frown bit  folding arms why every tim m need assistanc someon echeeky ects lil  ',\n",
              " 'someon mak cofffeeeeee   ']"
            ]
          },
          "metadata": {
            "tags": []
          },
          "execution_count": 20
        }
      ]
    },
    {
      "cell_type": "markdown",
      "metadata": {
        "id": "Gc7hkBzUGul-"
      },
      "source": [
        "# Encoding"
      ]
    },
    {
      "cell_type": "code",
      "metadata": {
        "id": "nWD9CKyGCzC0",
        "colab": {
          "base_uri": "https://localhost:8080/"
        },
        "outputId": "38002b8d-aaf1-437a-f321-0448506ca650"
      },
      "source": [
        " # Vectorizing texts\n",
        " vectorizer = TfidfVectorizer()\n",
        " vectorizer.fit(train_texts)"
      ],
      "execution_count": 21,
      "outputs": [
        {
          "output_type": "execute_result",
          "data": {
            "text/plain": [
              "TfidfVectorizer(analyzer='word', binary=False, decode_error='strict',\n",
              "                dtype=<class 'numpy.float64'>, encoding='utf-8',\n",
              "                input='content', lowercase=True, max_df=1.0, max_features=None,\n",
              "                min_df=1, ngram_range=(1, 1), norm='l2', preprocessor=None,\n",
              "                smooth_idf=True, stop_words=None, strip_accents=None,\n",
              "                sublinear_tf=False, token_pattern='(?u)\\\\b\\\\w\\\\w+\\\\b',\n",
              "                tokenizer=None, use_idf=True, vocabulary=None)"
            ]
          },
          "metadata": {
            "tags": []
          },
          "execution_count": 21
        }
      ]
    },
    {
      "cell_type": "code",
      "metadata": {
        "id": "cs4g_VH8CqR-"
      },
      "source": [
        "vectorized_train_texts = vectorizer.transform(train_texts)\n",
        "vectorized_val_texts = vectorizer.transform(val_texts)\n",
        "vectorized_test_texts = vectorizer.transform(test_texts)"
      ],
      "execution_count": 22,
      "outputs": []
    },
    {
      "cell_type": "code",
      "metadata": {
        "id": "50LiZ9o88Ipv"
      },
      "source": [
        "# label encoding\n",
        "label_encoder = LabelEncoder()\n",
        "encoded_train_labels = label_encoder.fit_transform(train_labels)\n",
        "encoded_val_labels = label_encoder.transform(val_labels)\n",
        "encoded_test_labels = label_encoder.transform(test_labels)"
      ],
      "execution_count": 23,
      "outputs": []
    },
    {
      "cell_type": "markdown",
      "metadata": {
        "id": "Qkt2S648IlAe"
      },
      "source": [
        "# SVM"
      ]
    },
    {
      "cell_type": "markdown",
      "metadata": {
        "id": "f6yoQXhcCLIl"
      },
      "source": [
        "## Defying the model"
      ]
    },
    {
      "cell_type": "code",
      "metadata": {
        "id": "ccz46WnHB9rs",
        "colab": {
          "base_uri": "https://localhost:8080/"
        },
        "outputId": "1405e796-5a53-4d2a-fadc-a936c834ebdf"
      },
      "source": [
        "svm_model = svm.SVC(probability=True)\n",
        "svm_model.fit(vectorized_train_texts, encoded_train_labels)"
      ],
      "execution_count": 24,
      "outputs": [
        {
          "output_type": "execute_result",
          "data": {
            "text/plain": [
              "SVC(C=1.0, break_ties=False, cache_size=200, class_weight=None, coef0=0.0,\n",
              "    decision_function_shape='ovr', degree=3, gamma='scale', kernel='rbf',\n",
              "    max_iter=-1, probability=True, random_state=None, shrinking=True, tol=0.001,\n",
              "    verbose=False)"
            ]
          },
          "metadata": {
            "tags": []
          },
          "execution_count": 24
        }
      ]
    },
    {
      "cell_type": "code",
      "metadata": {
        "colab": {
          "base_uri": "https://localhost:8080/"
        },
        "id": "vBx5i8orDjJO",
        "outputId": "63bbd467-8271-461a-dfab-a61038ca36be"
      },
      "source": [
        "train_predicitons = svm_model.predict(vectorized_train_texts)\n",
        "acc_train  = accuracy_score(encoded_train_labels, train_predicitons)\n",
        "acc_train"
      ],
      "execution_count": 25,
      "outputs": [
        {
          "output_type": "execute_result",
          "data": {
            "text/plain": [
              "0.997"
            ]
          },
          "metadata": {
            "tags": []
          },
          "execution_count": 25
        }
      ]
    },
    {
      "cell_type": "markdown",
      "metadata": {
        "id": "eYl0L0pLHWwW"
      },
      "source": [
        "## Validation"
      ]
    },
    {
      "cell_type": "code",
      "metadata": {
        "id": "uEQN5CGOHoGj",
        "colab": {
          "base_uri": "https://localhost:8080/"
        },
        "outputId": "9886f1f8-8ba7-479b-f8ae-901bd0b3a066"
      },
      "source": [
        "y_pred = svm_model.predict_log_proba(vectorized_val_texts)\n",
        "y_pred"
      ],
      "execution_count": 31,
      "outputs": [
        {
          "output_type": "execute_result",
          "data": {
            "text/plain": [
              "array([[-5.94528199e+00, -2.69222726e+00, -1.69696772e+00,\n",
              "        -5.71996837e+00, -2.96879184e-01],\n",
              "       [-6.93681991e+00, -1.06519241e-02, -7.79762788e+00,\n",
              "        -4.80536910e+00, -6.88047828e+00],\n",
              "       [-2.09403253e+01, -2.81701147e-05, -1.54660451e+01,\n",
              "        -1.05881789e+01, -1.27985878e+01],\n",
              "       ...,\n",
              "       [-8.67168163e-01, -2.16483238e+00, -2.68483279e+00,\n",
              "        -1.32658058e+00, -2.02893532e+00],\n",
              "       [-2.36588168e+00, -3.36538831e+00, -2.01445898e+00,\n",
              "        -4.86018825e-01, -2.09457858e+00],\n",
              "       [-5.29495401e+00, -5.59040878e+00, -4.08589732e+00,\n",
              "        -8.26681431e-02, -2.92276103e+00]])"
            ]
          },
          "metadata": {
            "tags": []
          },
          "execution_count": 31
        }
      ]
    },
    {
      "cell_type": "code",
      "metadata": {
        "id": "fVkZ7XeIGUO5",
        "colab": {
          "base_uri": "https://localhost:8080/"
        },
        "outputId": "931aba4e-786d-406c-a201-61a2d5cbc61a"
      },
      "source": [
        "acc = accuracy_score(encoded_val_labels, np.argmax(y_pred, axis=1))\n",
        "precision = precision_score(encoded_val_labels, np.argmax(y_pred, axis=1), average=\"micro\")\n",
        "recall = recall_score(encoded_val_labels, np.argmax(y_pred, axis=1), average=\"micro\")\n",
        "f1 = f1_score(encoded_val_labels, np.argmax(y_pred, axis=1), average=\"micro\")\n",
        "print(f\"Model has acc = {acc}\\n, precision = {precision}\\n, recall = {recall}\\n, f1_score = {f1}\\n\")"
      ],
      "execution_count": 32,
      "outputs": [
        {
          "output_type": "stream",
          "text": [
            "Model has acc = 0.8733333333333333\n",
            ", precision = 0.8733333333333333\n",
            ", recall = 0.8733333333333333\n",
            ", f1_score = 0.8733333333333333\n",
            "\n"
          ],
          "name": "stdout"
        }
      ]
    },
    {
      "cell_type": "markdown",
      "metadata": {
        "id": "cXRIrH5cHaiL"
      },
      "source": [
        "## Testing"
      ]
    },
    {
      "cell_type": "code",
      "metadata": {
        "id": "lz7-CQ7AHrRl"
      },
      "source": [
        "y_pred = svm_model.predict(vectorized_test_texts)"
      ],
      "execution_count": 35,
      "outputs": []
    },
    {
      "cell_type": "code",
      "metadata": {
        "id": "xQ_u_O1VHGRp",
        "colab": {
          "base_uri": "https://localhost:8080/"
        },
        "outputId": "72f91b64-bcb6-4a7f-d57a-871774ff3235"
      },
      "source": [
        "compute_metrics(encoded_test_labels, y_pred)\n"
      ],
      "execution_count": 36,
      "outputs": [
        {
          "output_type": "stream",
          "text": [
            "Model has acc = 0.8546666666666667\n",
            ", precision = 0.8627407390505872\n",
            ", recall = 0.8546666666666667\n",
            ", f1_score = 0.8570020315129779\n",
            "\n"
          ],
          "name": "stdout"
        }
      ]
    },
    {
      "cell_type": "code",
      "metadata": {
        "colab": {
          "base_uri": "https://localhost:8080/",
          "height": 467
        },
        "id": "2LtEabmnWrZR",
        "outputId": "ba38057c-03a8-46d0-e0ec-8dec45a2790b"
      },
      "source": [
        "y_pred = label_encoder.inverse_transform(y_pred)\n",
        "cm = confusion_matrix(test_labels, y_pred, labels)\n",
        "plot_confusion_matrix(cm, labels)"
      ],
      "execution_count": 37,
      "outputs": [
        {
          "output_type": "display_data",
          "data": {
            "image/png": "[encoded data removed]",
            "text/plain": [
              "<Figure size 576x432 with 2 Axes>"
            ]
          },
          "metadata": {
            "tags": [],
            "needs_background": "light"
          }
        }
      ]
    },
    {
      "cell_type": "markdown",
      "metadata": {
        "id": "PYElvbsPVYcf"
      },
      "source": [
        "## Building SVM class"
      ]
    },
    {
      "cell_type": "code",
      "metadata": {
        "id": "-VNXDU6wVVQB"
      },
      "source": [
        "class SVM_model:\n",
        "  def __init__(self, classifier, encoder, emodict, stop_words, vectorizer):\n",
        "    self._classifier = classifier\n",
        "    self._encoder = encoder\n",
        "    self._emodict = emodict\n",
        "    self._stop_words = stop_words\n",
        "    self._vectorizer = vectorizer\n",
        "  \n",
        "  def _preprocess_text(self, text, emodict, stop_words):\n",
        "    # make lowercase and strip empty spaces\n",
        "      result = text.lower()\n",
        "      # replace emojis with text\n",
        "      dict = demoji.findall(result)\n",
        "\n",
        "      for x in dict:\n",
        "          result = result.replace(x, dict[x] + \" \")\n",
        "\n",
        "      for x in emodict:\n",
        "          result = result.replace(x, emodict[x] + \" \")\n",
        "      # strip extra spaces\n",
        "      result = result.strip()\n",
        "      # eliminate URLs\n",
        "      result = re.result = re.sub(r\"http\\S+\", \"\", result)\n",
        "      # eliminate email addresses\n",
        "      result = re.sub('\\S*@\\S*\\s?', '', result)\n",
        "      # strip diacritics\n",
        "      result = unidecode.unidecode(result)\n",
        "      # english stopwords\n",
        "      word_list = word_tokenize(result)\n",
        "      # english stemmer\n",
        "      ps = SnowballStemmer(\"romanian\")\n",
        "\n",
        "      stemmed_sentence = \"\"\n",
        "      for word in word_list:\n",
        "          if word not in stop_words:\n",
        "              stemmed_sentence += ps.stem(word)\n",
        "              stemmed_sentence += \" \"\n",
        "\n",
        "      result = stemmed_sentence\n",
        "      whitelist = set('abcdefghijklmnopqrstuvwxyz ABCDEFGHIJKLMNOPQRSTUVWXYZ')\n",
        "      result = ''.join(filter(whitelist.__contains__, result))\n",
        "      result = ''.join([i for i in result if not i.isdigit()])\n",
        "      return result\n",
        "\n",
        "  def _vectorize_texts(self, texts):\n",
        "    vectorized_texts = []\n",
        "    for text in texts:\n",
        "      processed_text = self._preprocess_text(text, self._emodict, self._stop_words)\n",
        "      vectorized_texts.append(processed_text)\n",
        "    return self._vectorizer.transform(vectorized_texts)\n",
        "\n",
        "  def detect_emotions_with_labels(self, texts):\n",
        "    vectorized_texts = self._vectorize_texts(texts)\n",
        "    predictions = self._classifier.predict_log_proba(vectorized_texts)\n",
        "    predictions  = list(self._encoder.inverse_transform(np.argmax(predictions, axis=1)))\n",
        "    return predictions\n",
        "\n",
        "  def detect_emotions_with_proba(self, texts):\n",
        "    vectorized_texts = self._vectorize_texts(texts)\n",
        "    predictions = self._classifier.predict_log_proba(vectorized_texts)\n",
        "    return predictions\n",
        "\n",
        "  def proba_to_labels(self, proba):\n",
        "      labels  = list(self._encoder.inverse_transform(np.argmax(proba, axis=1)))\n",
        "      return labels"
      ],
      "execution_count": 38,
      "outputs": []
    },
    {
      "cell_type": "code",
      "metadata": {
        "id": "EhxCrkbYVXno"
      },
      "source": [
        "svm_cls = SVM_model(svm_model, label_encoder, emodict, stop_words, vectorizer)"
      ],
      "execution_count": 39,
      "outputs": []
    },
    {
      "cell_type": "code",
      "metadata": {
        "colab": {
          "base_uri": "https://localhost:8080/"
        },
        "id": "rZATQi5kZXTU",
        "outputId": "bfc4aba2-fb4a-43d4-d36d-407a90d83444"
      },
      "source": [
        "predictions = svm_cls.detect_emotions_with_labels(val_texts)\n",
        "acc = accuracy_score(val_labels, predictions)\n",
        "acc"
      ],
      "execution_count": 40,
      "outputs": [
        {
          "output_type": "execute_result",
          "data": {
            "text/plain": [
              "0.8706666666666667"
            ]
          },
          "metadata": {
            "tags": []
          },
          "execution_count": 40
        }
      ]
    },
    {
      "cell_type": "markdown",
      "metadata": {
        "id": "TIICJyeX9h7d"
      },
      "source": [
        "## Testing\n"
      ]
    },
    {
      "cell_type": "code",
      "metadata": {
        "id": "FCh7yDvq96cn"
      },
      "source": [
        "preds = svm_cls.detect_emotions_with_labels(test_texts)"
      ],
      "execution_count": 41,
      "outputs": []
    },
    {
      "cell_type": "code",
      "metadata": {
        "id": "1rOwUmZD9k6d",
        "colab": {
          "base_uri": "https://localhost:8080/",
          "height": 0
        },
        "outputId": "7e8f1938-4951-41d3-e5f8-d22b65fb2725"
      },
      "source": [
        "cm = confusion_matrix(test_labels, preds, labels)\n",
        "plot_confusion_matrix(cm, labels)"
      ],
      "execution_count": 42,
      "outputs": [
        {
          "output_type": "display_data",
          "data": {
            "image/png": "[encoded data removed]",
            "text/plain": [
              "<Figure size 576x432 with 2 Axes>"
            ]
          },
          "metadata": {
            "tags": [],
            "needs_background": "light"
          }
        }
      ]
    },
    {
      "cell_type": "markdown",
      "metadata": {
        "id": "g-qpXM_69nY1"
      },
      "source": [
        "## Saving the model"
      ]
    },
    {
      "cell_type": "code",
      "metadata": {
        "id": "-DJVYB2x10_Y"
      },
      "source": [
        "pickle_object(svm_cls, \"svm_model.obj\")"
      ],
      "execution_count": 43,
      "outputs": []
    },
    {
      "cell_type": "code",
      "metadata": {
        "id": "CpIiDqFZB4hO"
      },
      "source": [
        "svm_cls = pickle_load_object(\"svm_model.obj\")"
      ],
      "execution_count": 44,
      "outputs": []
    },
    {
      "cell_type": "code",
      "metadata": {
        "id": "dgW8TTELC9HQ"
      },
      "source": [
        "preds = svm_cls.detect_emotions_with_labels(test_texts)"
      ],
      "execution_count": 45,
      "outputs": []
    },
    {
      "cell_type": "code",
      "metadata": {
        "id": "yeyiq3hEDAQP",
        "colab": {
          "base_uri": "https://localhost:8080/",
          "height": 0
        },
        "outputId": "090c49bb-6d11-424f-ae22-60c0171de0e5"
      },
      "source": [
        "cm = confusion_matrix(test_labels, preds, labels)\n",
        "plot_confusion_matrix(cm, labels)"
      ],
      "execution_count": 46,
      "outputs": [
        {
          "output_type": "display_data",
          "data": {
            "image/png": "[encoded data removed]",
            "text/plain": [
              "<Figure size 576x432 with 2 Axes>"
            ]
          },
          "metadata": {
            "tags": [],
            "needs_background": "light"
          }
        }
      ]
    },
    {
      "cell_type": "markdown",
      "metadata": {
        "id": "7-2BsYg-M3s4"
      },
      "source": [
        "# Multinomial Naive bayes"
      ]
    },
    {
      "cell_type": "code",
      "metadata": {
        "colab": {
          "base_uri": "https://localhost:8080/"
        },
        "id": "u43mIhR8NCxa",
        "outputId": "08d3e84c-0024-4cae-d206-9c08e77e2e5c"
      },
      "source": [
        "mnb = MultinomialNB()\n",
        "mnb.fit(vectorized_train_texts, encoded_train_labels)"
      ],
      "execution_count": null,
      "outputs": [
        {
          "output_type": "execute_result",
          "data": {
            "text/plain": [
              "MultinomialNB(alpha=1.0, class_prior=None, fit_prior=True)"
            ]
          },
          "metadata": {
            "tags": []
          },
          "execution_count": 47
        }
      ]
    },
    {
      "cell_type": "code",
      "metadata": {
        "id": "AWFGaW0aOjnS",
        "colab": {
          "base_uri": "https://localhost:8080/"
        },
        "outputId": "b965d8d1-9926-42e6-b750-0ae4749a0117"
      },
      "source": [
        "preds = mnb.predict(vectorized_val_texts)\n",
        "preds"
      ],
      "execution_count": null,
      "outputs": [
        {
          "output_type": "execute_result",
          "data": {
            "text/plain": [
              "array([4, 1, 1, 4, 0, 2, 0, 0, 0, 2, 1, 3, 1, 3, 0, 2, 2, 3, 4, 2, 1, 0,\n",
              "       0, 1, 0, 4, 0, 0, 0, 1, 3, 1, 1, 4, 1, 0, 4, 0, 2, 0, 4, 2, 0, 0,\n",
              "       2, 4, 2, 1, 2, 1, 0, 0, 2, 3, 4, 4, 4, 4, 3, 2, 0, 0, 2, 4, 3, 2,\n",
              "       3, 4, 2, 1, 0, 2, 4, 4, 4, 4, 3, 1, 2, 2, 0, 2, 4, 4, 1, 1, 4, 0,\n",
              "       2, 2, 0, 2, 2, 2, 0, 0, 0, 0, 0, 1, 3, 4, 4, 2, 3, 3, 0, 2, 3, 4,\n",
              "       1, 3, 1, 0, 2, 2, 0, 1, 4, 4, 4, 0, 0, 2, 4, 3, 0, 4, 0, 0, 4, 1,\n",
              "       4, 2, 1, 2, 3, 0, 2, 4, 1, 3, 1, 1, 4, 2, 0, 1, 1, 2, 4, 4, 2, 4,\n",
              "       3, 3, 1, 1, 1, 1, 0, 1, 3, 2, 4, 1, 4, 4, 4, 4, 3, 1, 4, 2, 2, 0,\n",
              "       3, 2, 2, 0, 4, 4, 1, 1, 4, 1, 1, 2, 0, 2, 1, 3, 0, 4, 0, 1, 2, 3,\n",
              "       0, 0, 1, 4, 2, 2, 0, 4, 4, 4, 0, 0, 4, 3, 4, 4, 0, 4, 3, 3, 2, 4,\n",
              "       0, 4, 1, 0, 4, 4, 2, 0, 4, 2, 1, 4, 4, 0, 3, 1, 4, 2, 2, 0, 3, 4,\n",
              "       4, 4, 1, 4, 1, 1, 2, 0, 2, 0, 4, 2, 1, 0, 0, 2, 0, 0, 3, 3, 4, 0,\n",
              "       4, 4, 2, 1, 4, 0, 1, 2, 4, 1, 4, 4, 4, 4, 1, 0, 0, 2, 1, 4, 1, 4,\n",
              "       0, 4, 4, 1, 0, 3, 2, 0, 2, 2, 2, 3, 0, 3, 0, 0, 3, 3, 0, 4, 1, 0,\n",
              "       3, 1, 3, 1, 3, 0, 1, 2, 4, 1, 0, 0, 4, 3, 2, 4, 2, 1, 3, 1, 1, 2,\n",
              "       4, 1, 0, 0, 0, 2, 1, 1, 1, 2, 2, 2, 3, 4, 1, 0, 4, 2, 1, 2, 3, 0,\n",
              "       2, 3, 3, 3, 1, 0, 0, 3, 1, 2, 1, 1, 3, 1, 3, 4, 0, 3, 2, 3, 4, 4,\n",
              "       3, 0, 4, 1, 4, 3, 0, 4, 3, 4, 2, 1, 4, 0, 4, 3, 2, 1, 1, 1, 3, 0,\n",
              "       3, 1, 3, 0, 2, 1, 4, 1, 1, 2, 0, 3, 4, 2, 2, 3, 1, 1, 1, 4, 4, 4,\n",
              "       2, 4, 2, 4, 0, 1, 2, 4, 0, 0, 4, 1, 4, 0, 2, 0, 4, 4, 2, 2, 4, 0,\n",
              "       0, 1, 4, 2, 2, 1, 2, 2, 0, 2, 0, 0, 4, 0, 1, 4, 3, 4, 3, 3, 2, 4,\n",
              "       4, 0, 1, 1, 0, 2, 4, 2, 1, 1, 3, 0, 3, 0, 0, 2, 2, 1, 1, 1, 3, 0,\n",
              "       3, 3, 2, 0, 2, 2, 4, 2, 4, 3, 2, 2, 1, 1, 3, 1, 0, 2, 1, 3, 4, 0,\n",
              "       2, 1, 2, 1, 2, 3, 2, 1, 1, 2, 3, 0, 2, 4, 0, 2, 3, 4, 0, 4, 0, 0,\n",
              "       4, 0, 0, 0, 3, 3, 4, 1, 3, 2, 1, 0, 0, 0, 2, 3, 4, 4, 2, 1, 1, 4,\n",
              "       4, 3, 2, 1, 4, 2, 2, 3, 2, 3, 1, 2, 4, 4, 2, 0, 3, 0, 1, 0, 2, 3,\n",
              "       3, 3, 0, 1, 2, 4, 0, 3, 4, 1, 2, 4, 3, 2, 4, 2, 4, 0, 2, 4, 2, 1,\n",
              "       1, 4, 1, 2, 2, 2, 1, 4, 4, 2, 1, 0, 4, 3, 1, 3, 0, 1, 2, 1, 1, 0,\n",
              "       1, 0, 0, 3, 1, 0, 4, 4, 4, 4, 4, 4, 0, 0, 0, 2, 1, 3, 0, 1, 4, 3,\n",
              "       4, 1, 1, 1, 3, 4, 0, 0, 0, 1, 3, 0, 4, 3, 2, 2, 3, 0, 2, 3, 0, 1,\n",
              "       4, 3, 2, 0, 1, 0, 4, 2, 1, 4, 1, 3, 2, 1, 1, 2, 2, 1, 2, 0, 4, 1,\n",
              "       1, 3, 2, 4, 3, 1, 3, 0, 3, 3, 1, 0, 4, 1, 0, 1, 4, 2, 0, 4, 4, 4,\n",
              "       3, 1, 4, 3, 3, 1, 2, 3, 3, 4, 1, 4, 0, 0, 2, 1, 1, 4, 4, 0, 4, 0,\n",
              "       3, 0, 3, 2, 0, 0, 4, 4, 1, 4, 4, 0, 2, 1, 0, 1, 3, 2, 1, 0, 0, 0,\n",
              "       2, 3])"
            ]
          },
          "metadata": {
            "tags": []
          },
          "execution_count": 48
        }
      ]
    },
    {
      "cell_type": "code",
      "metadata": {
        "id": "knq4eoYfPOOM"
      },
      "source": [
        "preds_test = mnb.predict(vectorized_test_texts)"
      ],
      "execution_count": null,
      "outputs": []
    },
    {
      "cell_type": "code",
      "metadata": {
        "colab": {
          "base_uri": "https://localhost:8080/"
        },
        "id": "wkYOCwe0O5EB",
        "outputId": "45511499-3a45-43e7-f8d8-ccdc5ea26503"
      },
      "source": [
        "compute_metrics(encoded_val_labels, preds)"
      ],
      "execution_count": null,
      "outputs": [
        {
          "output_type": "stream",
          "text": [
            "Model has acc = 0.8213333333333334\n",
            ", precision = 0.8207896296291688\n",
            ", recall = 0.8213333333333332\n",
            ", f1_score = 0.8172448944929753\n",
            "\n"
          ],
          "name": "stdout"
        }
      ]
    },
    {
      "cell_type": "code",
      "metadata": {
        "colab": {
          "base_uri": "https://localhost:8080/"
        },
        "id": "xJzrBZMMPTCP",
        "outputId": "4f812def-a131-443a-b141-dde45c741853"
      },
      "source": [
        "compute_metrics(encoded_test_labels, preds_test)"
      ],
      "execution_count": null,
      "outputs": [
        {
          "output_type": "stream",
          "text": [
            "Model has acc = 0.8026666666666666\n",
            ", precision = 0.8014707230572864\n",
            ", recall = 0.8026666666666668\n",
            ", f1_score = 0.8006028750562351\n",
            "\n"
          ],
          "name": "stdout"
        }
      ]
    },
    {
      "cell_type": "markdown",
      "metadata": {
        "id": "i_HjBuyjM75c"
      },
      "source": [
        "# Gaussian Naive Bayes"
      ]
    },
    {
      "cell_type": "code",
      "metadata": {
        "id": "VKB175q1QzAz"
      },
      "source": [
        "gaussian_nb = GaussianNB()\n"
      ],
      "execution_count": null,
      "outputs": []
    },
    {
      "cell_type": "code",
      "metadata": {
        "id": "CtjO4VW19nln"
      },
      "source": [
        "x = vectorized_train_texts.toarray()"
      ],
      "execution_count": null,
      "outputs": []
    },
    {
      "cell_type": "code",
      "metadata": {
        "colab": {
          "base_uri": "https://localhost:8080/"
        },
        "id": "99_-upxLAc96",
        "outputId": "977b78a8-5380-45d2-8125-957b2a1e95d5"
      },
      "source": [
        "gaussian_nb.fit(x, encoded_train_labels)"
      ],
      "execution_count": null,
      "outputs": [
        {
          "output_type": "execute_result",
          "data": {
            "text/plain": [
              "GaussianNB(priors=None, var_smoothing=1e-09)"
            ]
          },
          "metadata": {
            "tags": []
          },
          "execution_count": 54
        }
      ]
    },
    {
      "cell_type": "code",
      "metadata": {
        "id": "KWo2FEPvAl1f"
      },
      "source": [
        "preds = gaussian_nb.predict(vectorized_val_texts.toarray())"
      ],
      "execution_count": null,
      "outputs": []
    },
    {
      "cell_type": "code",
      "metadata": {
        "colab": {
          "base_uri": "https://localhost:8080/"
        },
        "id": "fiBcZNfkiZua",
        "outputId": "49c5728f-691e-4b9e-9959-2553295f30b5"
      },
      "source": [
        "compute_metrics(encoded_val_labels, preds)"
      ],
      "execution_count": null,
      "outputs": [
        {
          "output_type": "stream",
          "text": [
            "Model has acc = 0.5853333333333334\n",
            ", precision = 0.5841413818745321\n",
            ", recall = 0.5853333333333334\n",
            ", f1_score = 0.5836231832185252\n",
            "\n"
          ],
          "name": "stdout"
        }
      ]
    }
  ]
}