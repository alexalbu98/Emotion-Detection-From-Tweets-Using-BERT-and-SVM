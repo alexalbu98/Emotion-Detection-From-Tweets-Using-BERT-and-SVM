{
  "nbformat": 4,
  "nbformat_minor": 0,
  "metadata": {
    "colab": {
      "name": "SVM.ipynb",
      "provenance": [],
      "collapsed_sections": [
        "5EBd4MS_7Tgw",
        "ITaI_a6E7fuS",
        "GbDG0rDS7nnN",
        "sRZifY9j72zY",
        "Gc7hkBzUGul-",
        "Qkt2S648IlAe",
        "eYl0L0pLHWwW",
        "cXRIrH5cHaiL",
        "PYElvbsPVYcf",
        "7-2BsYg-M3s4",
        "i_HjBuyjM75c"
      ]
    },
    "kernelspec": {
      "display_name": "Python 3",
      "name": "python3"
    },
    "language_info": {
      "name": "python"
    }
  },
  "cells": [
    {
      "cell_type": "markdown",
      "metadata": {
        "id": "5EBd4MS_7Tgw"
      },
      "source": [
        "# Setting up"
      ]
    },
    {
      "cell_type": "code",
      "metadata": {
        "id": "vOOQIHvwzEIj",
        "colab": {
          "base_uri": "https://localhost:8080/"
        },
        "outputId": "d77b43c4-966f-4b14-fed6-7cc935ed543a"
      },
      "source": [
        "!gdown --id 1up7d8aWd0H-QDN2konB_4oAwa4oHJQr2\n",
        "!gdown --id 1doKr_6jKH1kwFFCL92LhAHnDwHVmCQVK\n",
        "!gdown --id 1mUoiYzyUs6ihlmkqskdPPgo0O1ainWqw\n",
        "!mkdir ~/.demoji\n",
        "!mv codes.json ~/.demoji/\n",
        "!unzip wassa_dataset.zip\n",
        "!rm wassa_dataset.zip\n",
        "!pip install -qq demoji\n",
        "!pip install -qq unidecode\n",
        "!pip install -qq snowballstemmer"
      ],
      "execution_count": 2,
      "outputs": [
        {
          "output_type": "stream",
          "text": [
            "Downloading...\n",
            "From: https://drive.google.com/uc?id=1up7d8aWd0H-QDN2konB_4oAwa4oHJQr2\n",
            "To: /content/wassa_dataset.zip\n",
            "100% 364k/364k [00:00<00:00, 47.3MB/s]\n",
            "Downloading...\n",
            "From: https://drive.google.com/uc?id=1doKr_6jKH1kwFFCL92LhAHnDwHVmCQVK\n",
            "To: /content/emoticons.csv\n",
            "100% 6.02k/6.02k [00:00<00:00, 7.41MB/s]\n",
            "Downloading...\n",
            "From: https://drive.google.com/uc?id=1mUoiYzyUs6ihlmkqskdPPgo0O1ainWqw\n",
            "To: /content/codes.json\n",
            "100% 216k/216k [00:00<00:00, 80.3MB/s]\n",
            "Archive:  wassa_dataset.zip\n",
            "  inflating: wassa_train.csv         \n",
            "  inflating: wassa_test.csv          \n",
            "  inflating: wassa_val.csv           \n",
            "\u001b[K     |████████████████████████████████| 245kB 6.9MB/s \n",
            "\u001b[?25h"
          ],
          "name": "stdout"
        }
      ]
    },
    {
      "cell_type": "code",
      "metadata": {
        "id": "7ZQuG8GQzYUZ"
      },
      "source": [
        "import pandas as pd\n",
        "import matplotlib.pyplot as plt\n",
        "from sklearn.model_selection import train_test_split\n",
        "from sklearn import svm\n",
        "from sklearn.metrics import confusion_matrix\n",
        "from nltk import PorterStemmer, word_tokenize\n",
        "from nltk.corpus import stopwords\n",
        "from nltk.stem import SnowballStemmer\n",
        "import nltk\n",
        "from sklearn.feature_extraction.text import TfidfVectorizer\n",
        "import demoji\n",
        "import re\n",
        "import unidecode\n",
        "from sklearn.preprocessing import LabelEncoder\n",
        "from sklearn.metrics import accuracy_score \n",
        "import numpy as np\n",
        "import itertools\n",
        "from sklearn.naive_bayes import MultinomialNB, GaussianNB\n",
        "import pickle\n",
        "import snowballstemmer\n",
        "from sklearn.metrics import precision_score\n",
        "from sklearn.metrics import recall_score\n",
        "from sklearn.metrics import f1_score"
      ],
      "execution_count": 3,
      "outputs": []
    },
    {
      "cell_type": "code",
      "metadata": {
        "id": "mQ-xz4QR4ibS",
        "colab": {
          "base_uri": "https://localhost:8080/"
        },
        "outputId": "cd810679-4ec5-4b07-f7e4-7aa011599d0d"
      },
      "source": [
        "nltk.download(\"all\")"
      ],
      "execution_count": 4,
      "outputs": [
        {
          "output_type": "stream",
          "text": [
            "[nltk_data] Downloading collection 'all'\n",
            "[nltk_data]    | \n",
            "[nltk_data]    | Downloading package abc to /root/nltk_data...\n",
            "[nltk_data]    |   Unzipping corpora/abc.zip.\n",
            "[nltk_data]    | Downloading package alpino to /root/nltk_data...\n",
            "[nltk_data]    |   Unzipping corpora/alpino.zip.\n",
            "[nltk_data]    | Downloading package biocreative_ppi to\n",
            "[nltk_data]    |     /root/nltk_data...\n",
            "[nltk_data]    |   Unzipping corpora/biocreative_ppi.zip.\n",
            "[nltk_data]    | Downloading package brown to /root/nltk_data...\n",
            "[nltk_data]    |   Unzipping corpora/brown.zip.\n",
            "[nltk_data]    | Downloading package brown_tei to /root/nltk_data...\n",
            "[nltk_data]    |   Unzipping corpora/brown_tei.zip.\n",
            "[nltk_data]    | Downloading package cess_cat to /root/nltk_data...\n",
            "[nltk_data]    |   Unzipping corpora/cess_cat.zip.\n",
            "[nltk_data]    | Downloading package cess_esp to /root/nltk_data...\n",
            "[nltk_data]    |   Unzipping corpora/cess_esp.zip.\n",
            "[nltk_data]    | Downloading package chat80 to /root/nltk_data...\n",
            "[nltk_data]    |   Unzipping corpora/chat80.zip.\n",
            "[nltk_data]    | Downloading package city_database to\n",
            "[nltk_data]    |     /root/nltk_data...\n",
            "[nltk_data]    |   Unzipping corpora/city_database.zip.\n",
            "[nltk_data]    | Downloading package cmudict to /root/nltk_data...\n",
            "[nltk_data]    |   Unzipping corpora/cmudict.zip.\n",
            "[nltk_data]    | Downloading package comparative_sentences to\n",
            "[nltk_data]    |     /root/nltk_data...\n",
            "[nltk_data]    |   Unzipping corpora/comparative_sentences.zip.\n",
            "[nltk_data]    | Downloading package comtrans to /root/nltk_data...\n",
            "[nltk_data]    | Downloading package conll2000 to /root/nltk_data...\n",
            "[nltk_data]    |   Unzipping corpora/conll2000.zip.\n",
            "[nltk_data]    | Downloading package conll2002 to /root/nltk_data...\n",
            "[nltk_data]    |   Unzipping corpora/conll2002.zip.\n",
            "[nltk_data]    | Downloading package conll2007 to /root/nltk_data...\n",
            "[nltk_data]    | Downloading package crubadan to /root/nltk_data...\n",
            "[nltk_data]    |   Unzipping corpora/crubadan.zip.\n",
            "[nltk_data]    | Downloading package dependency_treebank to\n",
            "[nltk_data]    |     /root/nltk_data...\n",
            "[nltk_data]    |   Unzipping corpora/dependency_treebank.zip.\n",
            "[nltk_data]    | Downloading package dolch to /root/nltk_data...\n",
            "[nltk_data]    |   Unzipping corpora/dolch.zip.\n",
            "[nltk_data]    | Downloading package europarl_raw to\n",
            "[nltk_data]    |     /root/nltk_data...\n",
            "[nltk_data]    |   Unzipping corpora/europarl_raw.zip.\n",
            "[nltk_data]    | Downloading package floresta to /root/nltk_data...\n",
            "[nltk_data]    |   Unzipping corpora/floresta.zip.\n",
            "[nltk_data]    | Downloading package framenet_v15 to\n",
            "[nltk_data]    |     /root/nltk_data...\n",
            "[nltk_data]    |   Unzipping corpora/framenet_v15.zip.\n",
            "[nltk_data]    | Downloading package framenet_v17 to\n",
            "[nltk_data]    |     /root/nltk_data...\n",
            "[nltk_data]    |   Unzipping corpora/framenet_v17.zip.\n",
            "[nltk_data]    | Downloading package gazetteers to /root/nltk_data...\n",
            "[nltk_data]    |   Unzipping corpora/gazetteers.zip.\n",
            "[nltk_data]    | Downloading package genesis to /root/nltk_data...\n",
            "[nltk_data]    |   Unzipping corpora/genesis.zip.\n",
            "[nltk_data]    | Downloading package gutenberg to /root/nltk_data...\n",
            "[nltk_data]    |   Unzipping corpora/gutenberg.zip.\n",
            "[nltk_data]    | Downloading package ieer to /root/nltk_data...\n",
            "[nltk_data]    |   Unzipping corpora/ieer.zip.\n",
            "[nltk_data]    | Downloading package inaugural to /root/nltk_data...\n",
            "[nltk_data]    |   Unzipping corpora/inaugural.zip.\n",
            "[nltk_data]    | Downloading package indian to /root/nltk_data...\n",
            "[nltk_data]    |   Unzipping corpora/indian.zip.\n",
            "[nltk_data]    | Downloading package jeita to /root/nltk_data...\n",
            "[nltk_data]    | Downloading package kimmo to /root/nltk_data...\n",
            "[nltk_data]    |   Unzipping corpora/kimmo.zip.\n",
            "[nltk_data]    | Downloading package knbc to /root/nltk_data...\n",
            "[nltk_data]    | Downloading package lin_thesaurus to\n",
            "[nltk_data]    |     /root/nltk_data...\n",
            "[nltk_data]    |   Unzipping corpora/lin_thesaurus.zip.\n",
            "[nltk_data]    | Downloading package mac_morpho to /root/nltk_data...\n",
            "[nltk_data]    |   Unzipping corpora/mac_morpho.zip.\n",
            "[nltk_data]    | Downloading package machado to /root/nltk_data...\n",
            "[nltk_data]    | Downloading package masc_tagged to /root/nltk_data...\n",
            "[nltk_data]    | Downloading package moses_sample to\n",
            "[nltk_data]    |     /root/nltk_data...\n",
            "[nltk_data]    |   Unzipping models/moses_sample.zip.\n",
            "[nltk_data]    | Downloading package movie_reviews to\n",
            "[nltk_data]    |     /root/nltk_data...\n",
            "[nltk_data]    |   Unzipping corpora/movie_reviews.zip.\n",
            "[nltk_data]    | Downloading package names to /root/nltk_data...\n",
            "[nltk_data]    |   Unzipping corpora/names.zip.\n",
            "[nltk_data]    | Downloading package nombank.1.0 to /root/nltk_data...\n",
            "[nltk_data]    | Downloading package nps_chat to /root/nltk_data...\n",
            "[nltk_data]    |   Unzipping corpora/nps_chat.zip.\n",
            "[nltk_data]    | Downloading package omw to /root/nltk_data...\n",
            "[nltk_data]    |   Unzipping corpora/omw.zip.\n",
            "[nltk_data]    | Downloading package opinion_lexicon to\n",
            "[nltk_data]    |     /root/nltk_data...\n",
            "[nltk_data]    |   Unzipping corpora/opinion_lexicon.zip.\n",
            "[nltk_data]    | Downloading package paradigms to /root/nltk_data...\n",
            "[nltk_data]    |   Unzipping corpora/paradigms.zip.\n",
            "[nltk_data]    | Downloading package pil to /root/nltk_data...\n",
            "[nltk_data]    |   Unzipping corpora/pil.zip.\n",
            "[nltk_data]    | Downloading package pl196x to /root/nltk_data...\n",
            "[nltk_data]    |   Unzipping corpora/pl196x.zip.\n",
            "[nltk_data]    | Downloading package ppattach to /root/nltk_data...\n",
            "[nltk_data]    |   Unzipping corpora/ppattach.zip.\n",
            "[nltk_data]    | Downloading package problem_reports to\n",
            "[nltk_data]    |     /root/nltk_data...\n",
            "[nltk_data]    |   Unzipping corpora/problem_reports.zip.\n",
            "[nltk_data]    | Downloading package propbank to /root/nltk_data...\n",
            "[nltk_data]    | Downloading package ptb to /root/nltk_data...\n",
            "[nltk_data]    |   Unzipping corpora/ptb.zip.\n",
            "[nltk_data]    | Downloading package product_reviews_1 to\n",
            "[nltk_data]    |     /root/nltk_data...\n",
            "[nltk_data]    |   Unzipping corpora/product_reviews_1.zip.\n",
            "[nltk_data]    | Downloading package product_reviews_2 to\n",
            "[nltk_data]    |     /root/nltk_data...\n",
            "[nltk_data]    |   Unzipping corpora/product_reviews_2.zip.\n",
            "[nltk_data]    | Downloading package pros_cons to /root/nltk_data...\n",
            "[nltk_data]    |   Unzipping corpora/pros_cons.zip.\n",
            "[nltk_data]    | Downloading package qc to /root/nltk_data...\n",
            "[nltk_data]    |   Unzipping corpora/qc.zip.\n",
            "[nltk_data]    | Downloading package reuters to /root/nltk_data...\n",
            "[nltk_data]    | Downloading package rte to /root/nltk_data...\n",
            "[nltk_data]    |   Unzipping corpora/rte.zip.\n",
            "[nltk_data]    | Downloading package semcor to /root/nltk_data...\n",
            "[nltk_data]    | Downloading package senseval to /root/nltk_data...\n",
            "[nltk_data]    |   Unzipping corpora/senseval.zip.\n",
            "[nltk_data]    | Downloading package sentiwordnet to\n",
            "[nltk_data]    |     /root/nltk_data...\n",
            "[nltk_data]    |   Unzipping corpora/sentiwordnet.zip.\n",
            "[nltk_data]    | Downloading package sentence_polarity to\n",
            "[nltk_data]    |     /root/nltk_data...\n",
            "[nltk_data]    |   Unzipping corpora/sentence_polarity.zip.\n",
            "[nltk_data]    | Downloading package shakespeare to /root/nltk_data...\n",
            "[nltk_data]    |   Unzipping corpora/shakespeare.zip.\n",
            "[nltk_data]    | Downloading package sinica_treebank to\n",
            "[nltk_data]    |     /root/nltk_data...\n",
            "[nltk_data]    |   Unzipping corpora/sinica_treebank.zip.\n",
            "[nltk_data]    | Downloading package smultron to /root/nltk_data...\n",
            "[nltk_data]    |   Unzipping corpora/smultron.zip.\n",
            "[nltk_data]    | Downloading package state_union to /root/nltk_data...\n",
            "[nltk_data]    |   Unzipping corpora/state_union.zip.\n",
            "[nltk_data]    | Downloading package stopwords to /root/nltk_data...\n",
            "[nltk_data]    |   Unzipping corpora/stopwords.zip.\n",
            "[nltk_data]    | Downloading package subjectivity to\n",
            "[nltk_data]    |     /root/nltk_data...\n",
            "[nltk_data]    |   Unzipping corpora/subjectivity.zip.\n",
            "[nltk_data]    | Downloading package swadesh to /root/nltk_data...\n",
            "[nltk_data]    |   Unzipping corpora/swadesh.zip.\n",
            "[nltk_data]    | Downloading package switchboard to /root/nltk_data...\n",
            "[nltk_data]    |   Unzipping corpora/switchboard.zip.\n",
            "[nltk_data]    | Downloading package timit to /root/nltk_data...\n",
            "[nltk_data]    |   Unzipping corpora/timit.zip.\n",
            "[nltk_data]    | Downloading package toolbox to /root/nltk_data...\n",
            "[nltk_data]    |   Unzipping corpora/toolbox.zip.\n",
            "[nltk_data]    | Downloading package treebank to /root/nltk_data...\n",
            "[nltk_data]    |   Unzipping corpora/treebank.zip.\n",
            "[nltk_data]    | Downloading package twitter_samples to\n",
            "[nltk_data]    |     /root/nltk_data...\n",
            "[nltk_data]    |   Unzipping corpora/twitter_samples.zip.\n",
            "[nltk_data]    | Downloading package udhr to /root/nltk_data...\n",
            "[nltk_data]    |   Unzipping corpora/udhr.zip.\n",
            "[nltk_data]    | Downloading package udhr2 to /root/nltk_data...\n",
            "[nltk_data]    |   Unzipping corpora/udhr2.zip.\n",
            "[nltk_data]    | Downloading package unicode_samples to\n",
            "[nltk_data]    |     /root/nltk_data...\n",
            "[nltk_data]    |   Unzipping corpora/unicode_samples.zip.\n",
            "[nltk_data]    | Downloading package universal_treebanks_v20 to\n",
            "[nltk_data]    |     /root/nltk_data...\n",
            "[nltk_data]    | Downloading package verbnet to /root/nltk_data...\n",
            "[nltk_data]    |   Unzipping corpora/verbnet.zip.\n",
            "[nltk_data]    | Downloading package verbnet3 to /root/nltk_data...\n",
            "[nltk_data]    |   Unzipping corpora/verbnet3.zip.\n",
            "[nltk_data]    | Downloading package webtext to /root/nltk_data...\n",
            "[nltk_data]    |   Unzipping corpora/webtext.zip.\n",
            "[nltk_data]    | Downloading package wordnet to /root/nltk_data...\n",
            "[nltk_data]    |   Unzipping corpora/wordnet.zip.\n",
            "[nltk_data]    | Downloading package wordnet_ic to /root/nltk_data...\n",
            "[nltk_data]    |   Unzipping corpora/wordnet_ic.zip.\n",
            "[nltk_data]    | Downloading package words to /root/nltk_data...\n",
            "[nltk_data]    |   Unzipping corpora/words.zip.\n",
            "[nltk_data]    | Downloading package ycoe to /root/nltk_data...\n",
            "[nltk_data]    |   Unzipping corpora/ycoe.zip.\n",
            "[nltk_data]    | Downloading package rslp to /root/nltk_data...\n",
            "[nltk_data]    |   Unzipping stemmers/rslp.zip.\n",
            "[nltk_data]    | Downloading package maxent_treebank_pos_tagger to\n",
            "[nltk_data]    |     /root/nltk_data...\n",
            "[nltk_data]    |   Unzipping taggers/maxent_treebank_pos_tagger.zip.\n",
            "[nltk_data]    | Downloading package universal_tagset to\n",
            "[nltk_data]    |     /root/nltk_data...\n",
            "[nltk_data]    |   Unzipping taggers/universal_tagset.zip.\n",
            "[nltk_data]    | Downloading package maxent_ne_chunker to\n",
            "[nltk_data]    |     /root/nltk_data...\n",
            "[nltk_data]    |   Unzipping chunkers/maxent_ne_chunker.zip.\n",
            "[nltk_data]    | Downloading package punkt to /root/nltk_data...\n",
            "[nltk_data]    |   Unzipping tokenizers/punkt.zip.\n",
            "[nltk_data]    | Downloading package book_grammars to\n",
            "[nltk_data]    |     /root/nltk_data...\n",
            "[nltk_data]    |   Unzipping grammars/book_grammars.zip.\n",
            "[nltk_data]    | Downloading package sample_grammars to\n",
            "[nltk_data]    |     /root/nltk_data...\n",
            "[nltk_data]    |   Unzipping grammars/sample_grammars.zip.\n",
            "[nltk_data]    | Downloading package spanish_grammars to\n",
            "[nltk_data]    |     /root/nltk_data...\n",
            "[nltk_data]    |   Unzipping grammars/spanish_grammars.zip.\n",
            "[nltk_data]    | Downloading package basque_grammars to\n",
            "[nltk_data]    |     /root/nltk_data...\n",
            "[nltk_data]    |   Unzipping grammars/basque_grammars.zip.\n",
            "[nltk_data]    | Downloading package large_grammars to\n",
            "[nltk_data]    |     /root/nltk_data...\n",
            "[nltk_data]    |   Unzipping grammars/large_grammars.zip.\n",
            "[nltk_data]    | Downloading package tagsets to /root/nltk_data...\n",
            "[nltk_data]    |   Unzipping help/tagsets.zip.\n",
            "[nltk_data]    | Downloading package snowball_data to\n",
            "[nltk_data]    |     /root/nltk_data...\n",
            "[nltk_data]    | Downloading package bllip_wsj_no_aux to\n",
            "[nltk_data]    |     /root/nltk_data...\n",
            "[nltk_data]    |   Unzipping models/bllip_wsj_no_aux.zip.\n",
            "[nltk_data]    | Downloading package word2vec_sample to\n",
            "[nltk_data]    |     /root/nltk_data...\n",
            "[nltk_data]    |   Unzipping models/word2vec_sample.zip.\n",
            "[nltk_data]    | Downloading package panlex_swadesh to\n",
            "[nltk_data]    |     /root/nltk_data...\n",
            "[nltk_data]    | Downloading package mte_teip5 to /root/nltk_data...\n",
            "[nltk_data]    |   Unzipping corpora/mte_teip5.zip.\n",
            "[nltk_data]    | Downloading package averaged_perceptron_tagger to\n",
            "[nltk_data]    |     /root/nltk_data...\n",
            "[nltk_data]    |   Unzipping taggers/averaged_perceptron_tagger.zip.\n",
            "[nltk_data]    | Downloading package averaged_perceptron_tagger_ru to\n",
            "[nltk_data]    |     /root/nltk_data...\n",
            "[nltk_data]    |   Unzipping\n",
            "[nltk_data]    |       taggers/averaged_perceptron_tagger_ru.zip.\n",
            "[nltk_data]    | Downloading package perluniprops to\n",
            "[nltk_data]    |     /root/nltk_data...\n",
            "[nltk_data]    |   Unzipping misc/perluniprops.zip.\n",
            "[nltk_data]    | Downloading package nonbreaking_prefixes to\n",
            "[nltk_data]    |     /root/nltk_data...\n",
            "[nltk_data]    |   Unzipping corpora/nonbreaking_prefixes.zip.\n",
            "[nltk_data]    | Downloading package vader_lexicon to\n",
            "[nltk_data]    |     /root/nltk_data...\n",
            "[nltk_data]    | Downloading package porter_test to /root/nltk_data...\n",
            "[nltk_data]    |   Unzipping stemmers/porter_test.zip.\n",
            "[nltk_data]    | Downloading package wmt15_eval to /root/nltk_data...\n",
            "[nltk_data]    |   Unzipping models/wmt15_eval.zip.\n",
            "[nltk_data]    | Downloading package mwa_ppdb to /root/nltk_data...\n",
            "[nltk_data]    |   Unzipping misc/mwa_ppdb.zip.\n",
            "[nltk_data]    | \n",
            "[nltk_data]  Done downloading collection all\n"
          ],
          "name": "stdout"
        },
        {
          "output_type": "execute_result",
          "data": {
            "text/plain": [
              "True"
            ]
          },
          "metadata": {
            "tags": []
          },
          "execution_count": 4
        }
      ]
    },
    {
      "cell_type": "markdown",
      "metadata": {
        "id": "ITaI_a6E7fuS"
      },
      "source": [
        "# Loading the dataset"
      ]
    },
    {
      "cell_type": "code",
      "metadata": {
        "colab": {
          "base_uri": "https://localhost:8080/",
          "height": 0
        },
        "id": "A3VUIV3Xza8B",
        "outputId": "5c567426-276d-4420-d002-516c6d261d0e"
      },
      "source": [
        "df_train = pd.read_csv(\"wassa_train.csv\")\n",
        "df_val = pd.read_csv(\"wassa_val.csv\")\n",
        "df_test = pd.read_csv(\"wassa_test.csv\")\n",
        "n_samples = df_train[[\"tweet\", \"emotion\"]].groupby(\"emotion\").count()\n",
        "n_samples.plot(kind=\"bar\")\n",
        "plt.show()\n",
        "print(n_samples)"
      ],
      "execution_count": 5,
      "outputs": [
        {
          "output_type": "display_data",
          "data": {
            "image/png": "[encoded data removed]",
            "text/plain": [
              "<Figure size 432x288 with 1 Axes>"
            ]
          },
          "metadata": {
            "tags": [],
            "needs_background": "light"
          }
        },
        {
          "output_type": "stream",
          "text": [
            "         tweet\n",
            "emotion       \n",
            "anger     1200\n",
            "fear      1200\n",
            "joy       1200\n",
            "neutral   1200\n",
            "sadness   1200\n"
          ],
          "name": "stdout"
        }
      ]
    },
    {
      "cell_type": "code",
      "metadata": {
        "colab": {
          "base_uri": "https://localhost:8080/"
        },
        "id": "nfLa7cbWXU3c",
        "outputId": "d1b0b56e-d450-497a-eab7-10a0e30e06b7"
      },
      "source": [
        "labels = list(set(df_train[\"emotion\"].tolist()))\n",
        "labels"
      ],
      "execution_count": 6,
      "outputs": [
        {
          "output_type": "execute_result",
          "data": {
            "text/plain": [
              "['sadness', 'neutral', 'anger', 'fear', 'joy']"
            ]
          },
          "metadata": {
            "tags": []
          },
          "execution_count": 6
        }
      ]
    },
    {
      "cell_type": "markdown",
      "metadata": {
        "id": "GbDG0rDS7nnN"
      },
      "source": [
        "# Useful functions"
      ]
    },
    {
      "cell_type": "code",
      "metadata": {
        "id": "w6BunpRn0tjc"
      },
      "source": [
        "def plot_confusion_matrix(cm,\n",
        "                          target_names,\n",
        "                          title='Confusion matrix',\n",
        "                          cmap=None,\n",
        "                          normalize=True):\n",
        "    accuracy = np.trace(cm) / float(np.sum(cm))\n",
        "    misclass = 1 - accuracy\n",
        "\n",
        "    if cmap is None:\n",
        "        cmap = plt.get_cmap('Blues')\n",
        "\n",
        "    plt.figure(figsize=(8, 6))\n",
        "    plt.imshow(cm, interpolation='nearest', cmap=cmap)\n",
        "    plt.title(title)\n",
        "    plt.colorbar()\n",
        "\n",
        "    if target_names is not None:\n",
        "        tick_marks = np.arange(len(target_names))\n",
        "        plt.xticks(tick_marks, target_names, rotation=45)\n",
        "        plt.yticks(tick_marks, target_names)\n",
        "\n",
        "    if normalize:\n",
        "        cm = cm.astype('float') / cm.sum(axis=1)[:, np.newaxis]\n",
        "\n",
        "    thresh = cm.max() / 1.5 if normalize else cm.max() / 2\n",
        "    for i, j in itertools.product(range(cm.shape[0]), range(cm.shape[1])):\n",
        "        if normalize:\n",
        "            plt.text(j, i, \"{:0.4f}\".format(cm[i, j]),\n",
        "                     horizontalalignment=\"center\",\n",
        "                     color=\"white\" if cm[i, j] > thresh else \"black\")\n",
        "        else:\n",
        "            plt.text(j, i, \"{:,}\".format(cm[i, j]),\n",
        "                     horizontalalignment=\"center\",\n",
        "                     color=\"white\" if cm[i, j] > thresh else \"black\")\n",
        "\n",
        "    plt.tight_layout()\n",
        "    plt.ylabel('True label')\n",
        "    plt.xlabel('Predicted label\\naccuracy={:0.4f}; misclass={:0.4f}'.format(accuracy, misclass))\n",
        "    plt.show()\n",
        "\n"
      ],
      "execution_count": 7,
      "outputs": []
    },
    {
      "cell_type": "code",
      "metadata": {
        "id": "xrHpvKvp2r4d"
      },
      "source": [
        "def preprocess_text(text, emodict, stop_words):\n",
        "    # make lowercase and strip empty spaces\n",
        "    result = text.lower()\n",
        "    # replace emojis with text\n",
        "    dict = demoji.findall(result)\n",
        "\n",
        "    for x in dict:\n",
        "        result = result.replace(x, dict[x] + \" \")\n",
        "\n",
        "    for x in emodict:\n",
        "        result = result.replace(x, emodict[x] + \" \")\n",
        "    # strip extra spaces\n",
        "    result = result.strip()\n",
        "    # eliminate URLs\n",
        "    result = re.result = re.sub(r\"http\\S+\", \"\", result)\n",
        "    # eliminate email addresses\n",
        "    result = re.sub('\\S*@\\S*\\s?', '', result)\n",
        "    # strip diacritics\n",
        "    result = unidecode.unidecode(result)\n",
        "    # english stopwords\n",
        "    word_list = word_tokenize(result)\n",
        "    # english stemmer\n",
        "    ps = SnowballStemmer(\"romanian\")\n",
        "\n",
        "    stemmed_sentence = \"\"\n",
        "    for word in word_list:\n",
        "        if word not in stop_words:\n",
        "            stemmed_sentence += ps.stem(word)\n",
        "            stemmed_sentence += \" \"\n",
        "\n",
        "    result = stemmed_sentence\n",
        "    whitelist = set('abcdefghijklmnopqrstuvwxyz ABCDEFGHIJKLMNOPQRSTUVWXYZ')\n",
        "    result = ''.join(filter(whitelist.__contains__, result))\n",
        "    result = ''.join([i for i in result if not i.isdigit()])\n",
        "    return result"
      ],
      "execution_count": 8,
      "outputs": []
    },
    {
      "cell_type": "code",
      "metadata": {
        "id": "I2Z8gVEt3lzj"
      },
      "source": [
        "def get_emoji_translation(file):\n",
        "    df = pd.read_csv(file)\n",
        "    dict = {}\n",
        "    emojis = list(df[\"emoji\"])\n",
        "    words = list(df[\"word\"])\n",
        "    for i in range(len(words)):\n",
        "        dict[emojis[i]] = words[i]\n",
        "\n",
        "    return dict"
      ],
      "execution_count": 9,
      "outputs": []
    },
    {
      "cell_type": "code",
      "metadata": {
        "id": "8NcnQLm_8RLT"
      },
      "source": [
        "def preprocess_text_list(text_list, emodict, stop_words):\n",
        "  for i,text in enumerate(text_list):\n",
        "    text_list[i] = preprocess_text(text_list[i], emodict, stop_words)"
      ],
      "execution_count": 10,
      "outputs": []
    },
    {
      "cell_type": "code",
      "metadata": {
        "id": "N53Yo-hqD5se"
      },
      "source": [
        "def preprocess_text_list_ro(text_list, stop_words):\n",
        "  for i,text in enumerate(text_list):\n",
        "    text_list[i] = preprocess_text_ro(text_list[i], stop_words)"
      ],
      "execution_count": 11,
      "outputs": []
    },
    {
      "cell_type": "code",
      "metadata": {
        "id": "wJtXIyn1n5c2"
      },
      "source": [
        "def pickle_object(object, location):\n",
        "    filehandler = open(location, \"wb\")\n",
        "    pickle.dump(object, filehandler)\n",
        "    filehandler.close()\n",
        "\n",
        "def pickle_load_object(location):\n",
        "    file = open(location, 'rb')\n",
        "    object = pickle.load(file)\n",
        "    file.close()\n",
        "    return object"
      ],
      "execution_count": 12,
      "outputs": []
    },
    {
      "cell_type": "code",
      "metadata": {
        "id": "c4OTA3CzOLJw"
      },
      "source": [
        "def compute_metrics(y_true, predictions):\n",
        "  average = \"macro\"\n",
        "  acc = accuracy_score(y_true, predictions)\n",
        "  precision = precision_score(y_true, predictions, average=average)\n",
        "  recall = recall_score(y_true, predictions, average=average)\n",
        "  f1 = f1_score(y_true, predictions, average=average)\n",
        "  print(f\"Model has acc = {acc}\\n, precision = {precision}\\n, recall = {recall}\\n, f1_score = {f1}\\n\")\n"
      ],
      "execution_count": 13,
      "outputs": []
    },
    {
      "cell_type": "markdown",
      "metadata": {
        "id": "sRZifY9j72zY"
      },
      "source": [
        "# Preprocessing"
      ]
    },
    {
      "cell_type": "code",
      "metadata": {
        "id": "vEq7_CJt-0p1",
        "colab": {
          "base_uri": "https://localhost:8080/"
        },
        "outputId": "49061314-636e-4f50-dc19-aa0849f78d26"
      },
      "source": [
        "train_texts = df_train[\"tweet\"].tolist()\n",
        "val_texts = df_val[\"tweet\"].tolist()\n",
        "test_texts = df_test[\"tweet\"].tolist()\n",
        "\n",
        "\n",
        "train_labels = df_train[\"emotion\"].tolist()\n",
        "val_labels = df_val[\"emotion\"].tolist()\n",
        "test_labels = df_test[\"emotion\"].tolist()\n",
        "\n",
        "train_texts[:10]"
      ],
      "execution_count": 14,
      "outputs": [
        {
          "output_type": "execute_result",
          "data": {
            "text/plain": [
              "['Kinda wished I watched mischievous kiss before playful kiss',\n",
              " 'When you forget to mention you were bought dreamboys tickets 🙄😂',\n",
              " '@FreyaLynn @donniewahlberg yep! jimmy buffett FTW!!!... jimmy needs to tweet his words of wisdom every morning',\n",
              " \"@philcampbell blue skies? where, it's still grey and hazy out of my window\",\n",
              " 'Some moving clips on youtube tonight of the vigil held at Tulsa Metropolitan Baptist church for #TerenceCruther #justice  #sadness',\n",
              " 'Do what makes you successful and #happy now and forever',\n",
              " '@curligirl morning hon. what you having for breakfast? I cant decide',\n",
              " 'Standard Candice starting the show with a pout #startasyoumeantogoon #GBBO',\n",
              " \"[ @HedgehogDylan ] *she would frown a bit, folding her arms* 'why is it that every time I'm in need of assistance someone expects a lil **\",\n",
              " 'Someone make me a cofffeeeeeee......']"
            ]
          },
          "metadata": {
            "tags": []
          },
          "execution_count": 14
        }
      ]
    },
    {
      "cell_type": "markdown",
      "metadata": {
        "id": "inPyrexYEHCO"
      },
      "source": [
        "## English"
      ]
    },
    {
      "cell_type": "code",
      "metadata": {
        "id": "jkin3q-Z1b7V",
        "colab": {
          "base_uri": "https://localhost:8080/"
        },
        "outputId": "590feaed-97f1-4ce0-ee55-df04bda6ce9a"
      },
      "source": [
        "emodict = get_emoji_translation(\"emoticons.csv\")  # loads emoticons dict\n",
        "stop_words = stopwords.words(\"english\")  # loads english stopwords\n",
        "\n",
        "preprocess_text_list(train_texts, emodict, stop_words)\n",
        "preprocess_text_list(val_texts, emodict, stop_words)\n",
        "preprocess_text_list(test_texts, emodict, stop_words)\n",
        "\n",
        "train_texts[:10]"
      ],
      "execution_count": 15,
      "outputs": [
        {
          "output_type": "execute_result",
          "data": {
            "text/plain": [
              "['kind wished watched mischievous kiss playf kiss ',\n",
              " 'forget mention bought dreamboys tickets fac rolling eyes fac tears joy ',\n",
              " 'yep  jimmy buffett ftw     jimmy needs tweet words wisdom every morning ',\n",
              " 'blu skies   s still grey hazy window ',\n",
              " 'moving clips youtub tonight vigil held tuls metropolitan baptist church  terencecruther  justic  sadness ',\n",
              " 'makes successf  happy forever ',\n",
              " 'morning hon  breakfast  cant decid ',\n",
              " 'standard candic starting show pout  startasyoumeantogoon  gbbo ',\n",
              " '  she would frown bit  folding arms why every tim m need assistanc someon echeeky ects lil  ',\n",
              " 'someon mak cofffeeeeee   ']"
            ]
          },
          "metadata": {
            "tags": []
          },
          "execution_count": 15
        }
      ]
    },
    {
      "cell_type": "markdown",
      "metadata": {
        "id": "Gc7hkBzUGul-"
      },
      "source": [
        "# Encoding"
      ]
    },
    {
      "cell_type": "code",
      "metadata": {
        "id": "nWD9CKyGCzC0",
        "colab": {
          "base_uri": "https://localhost:8080/"
        },
        "outputId": "489eb3c3-8554-4409-fccf-8f61e679bf27"
      },
      "source": [
        " # Vectorizing texts\n",
        " vectorizer = TfidfVectorizer()\n",
        " vectorizer.fit(train_texts)"
      ],
      "execution_count": 16,
      "outputs": [
        {
          "output_type": "execute_result",
          "data": {
            "text/plain": [
              "TfidfVectorizer(analyzer='word', binary=False, decode_error='strict',\n",
              "                dtype=<class 'numpy.float64'>, encoding='utf-8',\n",
              "                input='content', lowercase=True, max_df=1.0, max_features=None,\n",
              "                min_df=1, ngram_range=(1, 1), norm='l2', preprocessor=None,\n",
              "                smooth_idf=True, stop_words=None, strip_accents=None,\n",
              "                sublinear_tf=False, token_pattern='(?u)\\\\b\\\\w\\\\w+\\\\b',\n",
              "                tokenizer=None, use_idf=True, vocabulary=None)"
            ]
          },
          "metadata": {
            "tags": []
          },
          "execution_count": 16
        }
      ]
    },
    {
      "cell_type": "code",
      "metadata": {
        "id": "cs4g_VH8CqR-"
      },
      "source": [
        "vectorized_train_texts = vectorizer.transform(train_texts)\n",
        "vectorized_val_texts = vectorizer.transform(val_texts)\n",
        "vectorized_test_texts = vectorizer.transform(test_texts)"
      ],
      "execution_count": 17,
      "outputs": []
    },
    {
      "cell_type": "code",
      "metadata": {
        "id": "50LiZ9o88Ipv"
      },
      "source": [
        "# label encoding\n",
        "label_encoder = LabelEncoder()\n",
        "encoded_train_labels = label_encoder.fit_transform(train_labels)\n",
        "encoded_val_labels = label_encoder.transform(val_labels)\n",
        "encoded_test_labels = label_encoder.transform(test_labels)"
      ],
      "execution_count": 18,
      "outputs": []
    },
    {
      "cell_type": "markdown",
      "metadata": {
        "id": "Qkt2S648IlAe"
      },
      "source": [
        "# SVM"
      ]
    },
    {
      "cell_type": "markdown",
      "metadata": {
        "id": "f6yoQXhcCLIl"
      },
      "source": [
        "## Defying the model"
      ]
    },
    {
      "cell_type": "code",
      "metadata": {
        "id": "ccz46WnHB9rs",
        "colab": {
          "base_uri": "https://localhost:8080/"
        },
        "outputId": "52fbb15e-bcde-424d-81bd-a4323fce1b2c"
      },
      "source": [
        "svm_model = svm.SVC(probability=True)\n",
        "svm_model.fit(vectorized_train_texts, encoded_train_labels)"
      ],
      "execution_count": 19,
      "outputs": [
        {
          "output_type": "execute_result",
          "data": {
            "text/plain": [
              "SVC(C=1.0, break_ties=False, cache_size=200, class_weight=None, coef0=0.0,\n",
              "    decision_function_shape='ovr', degree=3, gamma='scale', kernel='rbf',\n",
              "    max_iter=-1, probability=True, random_state=None, shrinking=True, tol=0.001,\n",
              "    verbose=False)"
            ]
          },
          "metadata": {
            "tags": []
          },
          "execution_count": 19
        }
      ]
    },
    {
      "cell_type": "markdown",
      "metadata": {
        "id": "eYl0L0pLHWwW"
      },
      "source": [
        "## Validation"
      ]
    },
    {
      "cell_type": "code",
      "metadata": {
        "id": "uEQN5CGOHoGj",
        "colab": {
          "base_uri": "https://localhost:8080/"
        },
        "outputId": "b2d4792d-1fbe-4eff-b139-caed5905555c"
      },
      "source": [
        "y_pred = svm_model.predict_log_proba(vectorized_val_texts)\n",
        "y_pred"
      ],
      "execution_count": 20,
      "outputs": [
        {
          "output_type": "execute_result",
          "data": {
            "text/plain": [
              "array([[-6.01814453e+00, -2.65517101e+00, -1.63911884e+00,\n",
              "        -5.70144063e+00, -3.15002834e-01],\n",
              "       [-7.30185531e+00, -9.66254020e-03, -7.93053563e+00,\n",
              "        -4.87466160e+00, -6.96490874e+00],\n",
              "       [-2.12161399e+01, -2.45910082e-05, -1.57614557e+01,\n",
              "        -1.07246817e+01, -1.29186302e+01],\n",
              "       ...,\n",
              "       [-8.85366553e-01, -2.13251948e+00, -2.64277801e+00,\n",
              "        -1.30523876e+00, -2.06650386e+00],\n",
              "       [-2.37927803e+00, -3.35691730e+00, -1.96535100e+00,\n",
              "        -4.87173436e-01, -2.13645300e+00],\n",
              "       [-5.27603589e+00, -5.58839680e+00, -4.00851196e+00,\n",
              "        -8.02037431e-02, -2.99458022e+00]])"
            ]
          },
          "metadata": {
            "tags": []
          },
          "execution_count": 20
        }
      ]
    },
    {
      "cell_type": "code",
      "metadata": {
        "id": "fVkZ7XeIGUO5",
        "colab": {
          "base_uri": "https://localhost:8080/"
        },
        "outputId": "5f1695a2-0169-4cf4-c839-62d3d7ea203f"
      },
      "source": [
        "acc = accuracy_score(encoded_val_labels, np.argmax(y_pred, axis=1))\n",
        "precision = precision_score(encoded_val_labels, np.argmax(y_pred, axis=1), average=\"micro\")\n",
        "recall = recall_score(encoded_val_labels, np.argmax(y_pred, axis=1), average=\"micro\")\n",
        "f1 = f1_score(encoded_val_labels, np.argmax(y_pred, axis=1), average=\"micro\")\n",
        "print(f\"Model has acc = {acc}\\n, precision = {precision}\\n, recall = {recall}\\n, f1_score = {f1}\\n\")"
      ],
      "execution_count": 21,
      "outputs": [
        {
          "output_type": "stream",
          "text": [
            "Model has acc = 0.8746666666666667\n",
            ", precision = 0.8746666666666667\n",
            ", recall = 0.8746666666666667\n",
            ", f1_score = 0.8746666666666667\n",
            "\n"
          ],
          "name": "stdout"
        }
      ]
    },
    {
      "cell_type": "markdown",
      "metadata": {
        "id": "cXRIrH5cHaiL"
      },
      "source": [
        "## Testing"
      ]
    },
    {
      "cell_type": "code",
      "metadata": {
        "id": "lz7-CQ7AHrRl"
      },
      "source": [
        "y_pred = svm_model.predict(vectorized_test_texts)"
      ],
      "execution_count": 22,
      "outputs": []
    },
    {
      "cell_type": "code",
      "metadata": {
        "id": "xQ_u_O1VHGRp",
        "colab": {
          "base_uri": "https://localhost:8080/"
        },
        "outputId": "7f6c033e-ec8c-42ae-f9dc-837cb6296cc2"
      },
      "source": [
        "compute_metrics(encoded_test_labels, y_pred)\n"
      ],
      "execution_count": 23,
      "outputs": [
        {
          "output_type": "stream",
          "text": [
            "Model has acc = 0.8546666666666667\n",
            ", precision = 0.8627407390505872\n",
            ", recall = 0.8546666666666667\n",
            ", f1_score = 0.8570020315129779\n",
            "\n"
          ],
          "name": "stdout"
        }
      ]
    },
    {
      "cell_type": "code",
      "metadata": {
        "colab": {
          "base_uri": "https://localhost:8080/",
          "height": 0
        },
        "id": "2LtEabmnWrZR",
        "outputId": "b416bd2d-1289-497b-b67b-2ba06685e291"
      },
      "source": [
        "y_pred = label_encoder.inverse_transform(y_pred)\n",
        "cm = confusion_matrix(test_labels, y_pred, labels)\n",
        "plot_confusion_matrix(cm, labels)"
      ],
      "execution_count": 24,
      "outputs": [
        {
          "output_type": "display_data",
          "data": {
            "image/png": "[encoded data removed]",
            "text/plain": [
              "<Figure size 576x432 with 2 Axes>"
            ]
          },
          "metadata": {
            "tags": [],
            "needs_background": "light"
          }
        }
      ]
    },
    {
      "cell_type": "markdown",
      "metadata": {
        "id": "PYElvbsPVYcf"
      },
      "source": [
        "## Building SVM class"
      ]
    },
    {
      "cell_type": "code",
      "metadata": {
        "id": "-VNXDU6wVVQB"
      },
      "source": [
        "class SVM_model:\n",
        "  def __init__(self, classifier, encoder, emodict, stop_words, vectorizer):\n",
        "    self._classifier = classifier\n",
        "    self._encoder = encoder\n",
        "    self._emodict = emodict\n",
        "    self._stop_words = stop_words\n",
        "    self._vectorizer = vectorizer\n",
        "  \n",
        "  def _preprocess_text(self, text, emodict, stop_words):\n",
        "    # make lowercase and strip empty spaces\n",
        "      result = text.lower()\n",
        "      # replace emojis with text\n",
        "      dict = demoji.findall(result)\n",
        "\n",
        "      for x in dict:\n",
        "          result = result.replace(x, dict[x] + \" \")\n",
        "\n",
        "      for x in emodict:\n",
        "          result = result.replace(x, emodict[x] + \" \")\n",
        "      # strip extra spaces\n",
        "      result = result.strip()\n",
        "      # eliminate URLs\n",
        "      result = re.result = re.sub(r\"http\\S+\", \"\", result)\n",
        "      # eliminate email addresses\n",
        "      result = re.sub('\\S*@\\S*\\s?', '', result)\n",
        "      # strip diacritics\n",
        "      result = unidecode.unidecode(result)\n",
        "      # english stopwords\n",
        "      word_list = word_tokenize(result)\n",
        "      # english stemmer\n",
        "      ps = SnowballStemmer(\"romanian\")\n",
        "\n",
        "      stemmed_sentence = \"\"\n",
        "      for word in word_list:\n",
        "          if word not in stop_words:\n",
        "              stemmed_sentence += ps.stem(word)\n",
        "              stemmed_sentence += \" \"\n",
        "\n",
        "      result = stemmed_sentence\n",
        "      whitelist = set('abcdefghijklmnopqrstuvwxyz ABCDEFGHIJKLMNOPQRSTUVWXYZ')\n",
        "      result = ''.join(filter(whitelist.__contains__, result))\n",
        "      result = ''.join([i for i in result if not i.isdigit()])\n",
        "      return result\n",
        "\n",
        "  def _vectorize_texts(self, texts):\n",
        "    vectorized_texts = []\n",
        "    for text in texts:\n",
        "      processed_text = self._preprocess_text(text, self._emodict, self._stop_words)\n",
        "      vectorized_texts.append(processed_text)\n",
        "    return self._vectorizer.transform(vectorized_texts)\n",
        "\n",
        "  def detect_emotions_with_labels(self, texts):\n",
        "    vectorized_texts = self._vectorize_texts(texts)\n",
        "    predictions = self._classifier.predict_log_proba(vectorized_texts)\n",
        "    predictions  = list(self._encoder.inverse_transform(np.argmax(predictions, axis=1)))\n",
        "    return predictions\n",
        "\n",
        "  def detect_emotions_with_proba(self, texts):\n",
        "    vectorized_texts = self._vectorize_texts(texts)\n",
        "    predictions = self._classifier.predict_log_proba(vectorized_texts)\n",
        "    return predictions\n",
        "\n",
        "  def proba_to_labels(self, proba):\n",
        "      labels  = list(self._encoder.inverse_transform(np.argmax(proba, axis=1)))\n",
        "      return labels"
      ],
      "execution_count": 25,
      "outputs": []
    },
    {
      "cell_type": "code",
      "metadata": {
        "id": "EhxCrkbYVXno"
      },
      "source": [
        "svm_cls = SVM_model(svm_model, label_encoder, emodict, stop_words, vectorizer)"
      ],
      "execution_count": 26,
      "outputs": []
    },
    {
      "cell_type": "code",
      "metadata": {
        "colab": {
          "base_uri": "https://localhost:8080/"
        },
        "id": "rZATQi5kZXTU",
        "outputId": "3ca5e441-25d5-41e4-c5ef-a2108d333d40"
      },
      "source": [
        "predictions = svm_cls.detect_emotions_with_labels(val_texts)\n",
        "acc = accuracy_score(val_labels, predictions)\n",
        "acc"
      ],
      "execution_count": 27,
      "outputs": [
        {
          "output_type": "execute_result",
          "data": {
            "text/plain": [
              "0.872"
            ]
          },
          "metadata": {
            "tags": []
          },
          "execution_count": 27
        }
      ]
    },
    {
      "cell_type": "markdown",
      "metadata": {
        "id": "TIICJyeX9h7d"
      },
      "source": [
        "## Testing\n"
      ]
    },
    {
      "cell_type": "code",
      "metadata": {
        "id": "FCh7yDvq96cn"
      },
      "source": [
        "preds = svm_cls.detect_emotions_with_labels(test_texts)"
      ],
      "execution_count": 28,
      "outputs": []
    },
    {
      "cell_type": "code",
      "metadata": {
        "id": "1rOwUmZD9k6d",
        "colab": {
          "base_uri": "https://localhost:8080/",
          "height": 467
        },
        "outputId": "6564a592-2574-4cac-c921-1591c6622465"
      },
      "source": [
        "cm = confusion_matrix(test_labels, preds, labels)\n",
        "plot_confusion_matrix(cm, labels)"
      ],
      "execution_count": 29,
      "outputs": [
        {
          "output_type": "display_data",
          "data": {
            "image/png": "[encoded data removed]",
            "text/plain": [
              "<Figure size 576x432 with 2 Axes>"
            ]
          },
          "metadata": {
            "tags": [],
            "needs_background": "light"
          }
        }
      ]
    },
    {
      "cell_type": "markdown",
      "metadata": {
        "id": "g-qpXM_69nY1"
      },
      "source": [
        "## Saving the model"
      ]
    },
    {
      "cell_type": "code",
      "metadata": {
        "id": "-DJVYB2x10_Y"
      },
      "source": [
        "pickle_object(svm_cls, \"svm_model.obj\")"
      ],
      "execution_count": 30,
      "outputs": []
    },
    {
      "cell_type": "code",
      "metadata": {
        "id": "CpIiDqFZB4hO"
      },
      "source": [
        "svm_cls = pickle_load_object(\"svm_model.obj\")"
      ],
      "execution_count": 31,
      "outputs": []
    },
    {
      "cell_type": "code",
      "metadata": {
        "id": "dgW8TTELC9HQ"
      },
      "source": [
        "preds = svm_cls.detect_emotions_with_labels(test_texts)"
      ],
      "execution_count": 32,
      "outputs": []
    },
    {
      "cell_type": "code",
      "metadata": {
        "id": "yeyiq3hEDAQP",
        "colab": {
          "base_uri": "https://localhost:8080/",
          "height": 467
        },
        "outputId": "25321675-2178-4517-8d9a-10b244ea4598"
      },
      "source": [
        "cm = confusion_matrix(test_labels, preds, labels)\n",
        "plot_confusion_matrix(cm, labels)"
      ],
      "execution_count": 33,
      "outputs": [
        {
          "output_type": "display_data",
          "data": {
            "image/png": "[encoded data removed]",
            "text/plain": [
              "<Figure size 576x432 with 2 Axes>"
            ]
          },
          "metadata": {
            "tags": [],
            "needs_background": "light"
          }
        }
      ]
    },
    {
      "cell_type": "markdown",
      "metadata": {
        "id": "7-2BsYg-M3s4"
      },
      "source": [
        "# Multinomial Naive bayes"
      ]
    },
    {
      "cell_type": "code",
      "metadata": {
        "colab": {
          "base_uri": "https://localhost:8080/"
        },
        "id": "u43mIhR8NCxa",
        "outputId": "04878b8d-a5e2-4bad-9751-b6679f99ce4b"
      },
      "source": [
        "mnb = MultinomialNB(alpha=1)\n",
        "mnb.fit(vectorized_train_texts, encoded_train_labels)"
      ],
      "execution_count": 34,
      "outputs": [
        {
          "output_type": "execute_result",
          "data": {
            "text/plain": [
              "MultinomialNB(alpha=1, class_prior=None, fit_prior=True)"
            ]
          },
          "metadata": {
            "tags": []
          },
          "execution_count": 34
        }
      ]
    },
    {
      "cell_type": "code",
      "metadata": {
        "id": "AWFGaW0aOjnS"
      },
      "source": [
        "preds_val = mnb.predict(vectorized_val_texts)"
      ],
      "execution_count": 35,
      "outputs": []
    },
    {
      "cell_type": "code",
      "metadata": {
        "id": "knq4eoYfPOOM"
      },
      "source": [
        "preds_test = mnb.predict(vectorized_test_texts)"
      ],
      "execution_count": 36,
      "outputs": []
    },
    {
      "cell_type": "code",
      "metadata": {
        "colab": {
          "base_uri": "https://localhost:8080/"
        },
        "id": "wkYOCwe0O5EB",
        "outputId": "d9f7f9e8-4cea-46a2-d00c-c0a1a7e05b2a"
      },
      "source": [
        "compute_metrics(encoded_val_labels, preds_val)"
      ],
      "execution_count": 37,
      "outputs": [
        {
          "output_type": "stream",
          "text": [
            "Model has acc = 0.8213333333333334\n",
            ", precision = 0.8207896296291688\n",
            ", recall = 0.8213333333333332\n",
            ", f1_score = 0.8172448944929753\n",
            "\n"
          ],
          "name": "stdout"
        }
      ]
    },
    {
      "cell_type": "code",
      "metadata": {
        "colab": {
          "base_uri": "https://localhost:8080/"
        },
        "id": "xJzrBZMMPTCP",
        "outputId": "2ecf2abc-eb6e-4b50-abea-dcc597ad2f2d"
      },
      "source": [
        "compute_metrics(encoded_test_labels, preds_test)"
      ],
      "execution_count": 38,
      "outputs": [
        {
          "output_type": "stream",
          "text": [
            "Model has acc = 0.8026666666666666\n",
            ", precision = 0.8014707230572864\n",
            ", recall = 0.8026666666666668\n",
            ", f1_score = 0.8006028750562351\n",
            "\n"
          ],
          "name": "stdout"
        }
      ]
    },
    {
      "cell_type": "markdown",
      "metadata": {
        "id": "i_HjBuyjM75c"
      },
      "source": [
        "# Gaussian Naive Bayes"
      ]
    },
    {
      "cell_type": "code",
      "metadata": {
        "id": "VKB175q1QzAz",
        "colab": {
          "base_uri": "https://localhost:8080/"
        },
        "outputId": "ac6a4279-a790-40c0-a621-9185963a3a6b"
      },
      "source": [
        "gaussian_nb = GaussianNB(var_smoothing=5e-1)\n",
        "gaussian_nb"
      ],
      "execution_count": 39,
      "outputs": [
        {
          "output_type": "execute_result",
          "data": {
            "text/plain": [
              "GaussianNB(priors=None, var_smoothing=0.5)"
            ]
          },
          "metadata": {
            "tags": []
          },
          "execution_count": 39
        }
      ]
    },
    {
      "cell_type": "code",
      "metadata": {
        "id": "CtjO4VW19nln"
      },
      "source": [
        "x = vectorized_train_texts.toarray()"
      ],
      "execution_count": 40,
      "outputs": []
    },
    {
      "cell_type": "code",
      "metadata": {
        "colab": {
          "base_uri": "https://localhost:8080/"
        },
        "id": "99_-upxLAc96",
        "outputId": "6f85fe5e-4909-4b68-fd78-f0d8e49347c0"
      },
      "source": [
        "gaussian_nb.fit(x, encoded_train_labels)"
      ],
      "execution_count": 41,
      "outputs": [
        {
          "output_type": "execute_result",
          "data": {
            "text/plain": [
              "GaussianNB(priors=None, var_smoothing=0.5)"
            ]
          },
          "metadata": {
            "tags": []
          },
          "execution_count": 41
        }
      ]
    },
    {
      "cell_type": "code",
      "metadata": {
        "id": "KWo2FEPvAl1f"
      },
      "source": [
        "preds_val = gaussian_nb.predict(vectorized_val_texts.toarray())\n",
        "preds_test = gaussian_nb.predict(vectorized_test_texts.toarray())"
      ],
      "execution_count": 42,
      "outputs": []
    },
    {
      "cell_type": "code",
      "metadata": {
        "colab": {
          "base_uri": "https://localhost:8080/"
        },
        "id": "fiBcZNfkiZua",
        "outputId": "9a875fbe-bfbb-4cac-fd0b-7edc20dafd73"
      },
      "source": [
        "compute_metrics(encoded_val_labels, preds_val)"
      ],
      "execution_count": 43,
      "outputs": [
        {
          "output_type": "stream",
          "text": [
            "Model has acc = 0.7253333333333334\n",
            ", precision = 0.7694661255371684\n",
            ", recall = 0.7253333333333333\n",
            ", f1_score = 0.732045853048164\n",
            "\n"
          ],
          "name": "stdout"
        }
      ]
    },
    {
      "cell_type": "code",
      "metadata": {
        "colab": {
          "base_uri": "https://localhost:8080/"
        },
        "id": "xvXhjW9beUqE",
        "outputId": "bad7a4b5-a353-4a7f-a5df-d7f83ab712d3"
      },
      "source": [
        "compute_metrics(encoded_test_labels, preds_test)"
      ],
      "execution_count": 44,
      "outputs": [
        {
          "output_type": "stream",
          "text": [
            "Model has acc = 0.7306666666666667\n",
            ", precision = 0.7806889160928956\n",
            ", recall = 0.7306666666666667\n",
            ", f1_score = 0.738510572433856\n",
            "\n"
          ],
          "name": "stdout"
        }
      ]
    }
  ]
}